{
 "cells": [
  {
   "cell_type": "markdown",
   "metadata": {},
   "source": [
    "<img src=\"http://imgur.com/1ZcRyrc.png\" style=\"float: left; margin: 15px; height: 80px\">\n",
    "\n",
    "# Project 4: Web Scraping Job Postings\n",
    "\n",
    "\n",
    "## Business Case Overview\n",
    "\n",
    "You're working as a data scientist for a contracting firm that's rapidly expanding. Now that they have their most valuable employee (you!), they need to leverage data to win more contracts. Your firm offers technology and scientific solutions and wants to be competitive in the hiring market. Your principal has two main objectives:\n",
    "\n",
    "   1. Determine the industry factors that are most important in predicting the salary amounts for these data.\n",
    "   2. Determine the factors that distinguish job categories and titles from each other. For example, can required skills accurately predict job title?\n",
    "\n",
    "To limit the scope, your principal has suggested that you *focus on data-related job postings*, e.g. data scientist, data analyst, research scientist, business intelligence, and any others you might think of. You may also want to decrease the scope by *limiting your search to a single region.*\n",
    "\n",
    "Hint: Aggregators like [Indeed.com](https://www.indeed.com) regularly pool job postings from a variety of markets and industries. \n",
    "\n",
    "**Goal:** Scrape your own data from a job aggregation tool like Indeed.com in order to collect the data to best answer these two questions.\n",
    "\n",
    "---\n",
    "\n",
    "## Directions\n",
    "\n",
    "In this project you will be leveraging a variety of skills. The first will be to use the web-scraping and/or API techniques you've learned to collect data on data jobs from Indeed.com or another aggregator. Once you have collected and cleaned the data, you will use it to answer the two questions described above.\n",
    "\n",
    "### QUESTION 1: Factors that impact salary\n",
    "\n",
    "To predict salary you will be building either a classification or regression model, using features like the location, title, and summary of the job. If framing this as a regression problem, you will be estimating the listed salary amounts. You may instead choose to frame this as a classification problem, in which case you will create labels from these salaries (high vs. low salary, for example) according to thresholds (such as median salary).\n",
    "\n",
    "You have learned a variety of new skills and models that may be useful for this problem:\n",
    "- NLP\n",
    "- Unsupervised learning and dimensionality reduction techniques (PCA, clustering)\n",
    "- Ensemble methods and decision tree models\n",
    "- SVM models\n",
    "\n",
    "Whatever you decide to use, the most important thing is to justify your choices and interpret your results. *Communication of your process is key.* Note that most listings **DO NOT** come with salary information. You'll need to able to extrapolate or predict the expected salaries for these listings.\n",
    "\n",
    "### QUESTION 2: Factors that distinguish job category\n",
    "\n",
    "Using the job postings you scraped for part 1 (or potentially new job postings from a second round of scraping), identify features in the data related to job postings that can distinguish job titles from each other. There are a variety of interesting ways you can frame the target variable, for example:\n",
    "- What components of a job posting distinguish data scientists from other data jobs?\n",
    "- What features are important for distinguishing junior vs. senior positions?\n",
    "- Do the requirements for titles vary significantly with industry (e.g. healthcare vs. government)?\n",
    "\n",
    "You may end up making multiple classification models to tackle different questions. Be sure to clearly explain your hypotheses and framing, any feature engineering, and what your target variables are. The type of classification model you choose is up to you. Be sure to interpret your results and evaluate your models' performance.\n",
    "\n",
    "\n",
    "### BONUS PROBLEM\n",
    "\n",
    "Your boss would rather tell a client incorrectly that they would get a lower salary job than tell a client incorrectly that they would get a high salary job. Adjust one of your models to ease his mind, and explain what it is doing and any tradeoffs. Plot the ROC curve.\n",
    "\n",
    "---\n",
    "\n",
    "## Requirements\n",
    "\n",
    "1. Scrape and prepare your own data.\n",
    "\n",
    "2. **Create and compare at least two models for each section**. One of the two models should be a decision tree or ensemble model. The other can be a classifier or regression of your choosing (e.g. Ridge, logistic regression, KNN, SVM, etc).\n",
    "   - Section 1: Job Salary Trends\n",
    "   - Section 2: Job Category Factors\n",
    "\n",
    "3. Prepare a polished Jupyter Notebook with your analysis for a peer audience of data scientists. \n",
    "   - Make sure to clearly describe and label each section.\n",
    "   - Comment on your code so that others could, in theory, replicate your work.\n",
    "\n",
    "4. A brief writeup in an executive summary, written for a non-technical audience.\n",
    "   - Writeups should be at least 500-1000 words, defining any technical terms, explaining your approach, as well as any risks and limitations.\n",
    "\n",
    "#### BONUS\n",
    "\n",
    "5. Answer the salary discussion by using your model to explain the tradeoffs between detecting high vs low salary positions.\n",
    "\n",
    "6. Convert your executive summary into a public blog post of at least 500 words, in which you document your approach in a tutorial for other aspiring data scientists. Link to this in your notebook.\n",
    "\n",
    "---\n",
    "\n",
    "## Suggestions for Getting Started\n",
    "\n",
    "1. Collect data from [Indeed.com](www.indeed.com) (or another aggregator) on data-related jobs to use in predicting salary trends for your analysis.\n",
    "  - Select and parse data from *at least 1000 postings* for jobs, potentially from multiple location searches.\n",
    "2. Find out what factors most directly impact salaries (e.g. title, location, department, etc).\n",
    "  - Test, validate, and describe your models. What factors predict salary category? How do your models perform?\n",
    "3. Discover which features have the greatest importance when determining a low vs. high paying job.\n",
    "  - Your Boss is interested in what overall features hold the greatest significance.\n",
    "  - HR is interested in which SKILLS and KEY WORDS hold the greatest significance.   \n",
    "4. Author an executive summary that details the highlights of your analysis for a non-technical audience.\n",
    "5. If tackling the bonus question, try framing the salary problem as a classification problem detecting low vs. high salary positions.\n",
    "\n",
    "---\n",
    "\n",
    "## Useful Resources\n",
    "\n",
    "- Scraping is one of the most fun, useful and interesting skills out there. Don’t lose out by copying someone else's code!\n",
    "- [Here is some advice on how to write for a non-technical audience](http://programmers.stackexchange.com/questions/11523/explaining-technical-things-to-non-technical-people)\n",
    "- [Documentation for BeautifulSoup can be found here](http://www.crummy.com/software/BeautifulSoup/).\n",
    "\n",
    "---"
   ]
  },
  {
   "cell_type": "code",
   "execution_count": 1434,
   "metadata": {},
   "outputs": [],
   "source": [
    "import numpy as np\n",
    "import pandas as pd\n",
    "import scipy as sp\n",
    "import scipy.stats as stats\n",
    "import seaborn as sns\n",
    "import matplotlib.pyplot as plt\n",
    "\n",
    "from pprint import pprint\n",
    "\n",
    "from sklearn.model_selection import train_test_split\n",
    "from sklearn.feature_extraction.text import CountVectorizer, TfidfVectorizer\n",
    "from sklearn.naive_bayes import MultinomialNB\n",
    "from sklearn.linear_model import LogisticRegression\n",
    "from sklearn import metrics\n",
    "from textblob import TextBlob, Word\n",
    "\n",
    "from collections import Counter\n",
    "import string\n",
    "import re\n",
    "\n",
    "\n",
    "%matplotlib inline\n",
    "\n",
    "sns.set_style('whitegrid')\n",
    "\n",
    "%config InlineBackend.figure_format = 'retina'\n",
    "%matplotlib inline\n",
    "\n",
    "\n",
    "\n",
    "\n"
   ]
  },
  {
   "cell_type": "markdown",
   "metadata": {},
   "source": [
    "<font color=\"DarkRed\">  \n",
    "# !! REMEMBER to review comments with these to clean up\n",
    "#!!KIV\n",
    "#!!Testing"
   ]
  },
  {
   "cell_type": "markdown",
   "metadata": {},
   "source": []
  },
  {
   "cell_type": "markdown",
   "metadata": {},
   "source": [
    "<font color=\"DarkSlateBlue\">\n",
    "## Sections<br>\n",
    "- [Data Preprocessing](#preprocess_data)\n",
    "    - [Data Cleaning and Wrangling](#clean_data)\n",
    "    - [Split into training and test sets](#split_train_test)\n",
    "    - [Exploratory Data Analysis and Feature Engineering](#eda_fe)\n",
    "\n",
    "Not completed\n",
    "- [Qn 1 - Train and test] (#qn1)\n",
    "\n",
    "Not done\n",
    "- [Section 1 Salary Trends](#section_1)\n",
    "- [Section 2 Job Category Factors](#section_2)\n",
    "- [Executive Summary](#executive_summary)\n",
    "- [Bonus - Tradeoffs between detecting high vs low salary positions](#bonus_tradeoff)"
   ]
  },
  {
   "cell_type": "markdown",
   "metadata": {},
   "source": [
    "<a id='preprocess_data'/>\n",
    "## Data Preprocessing"
   ]
  },
  {
   "cell_type": "markdown",
   "metadata": {},
   "source": [
    "<a id='clean_data'/>\n",
    "### Data Cleaning and Wrangling"
   ]
  },
  {
   "cell_type": "code",
   "execution_count": 1374,
   "metadata": {},
   "outputs": [],
   "source": [
    "# read in the dataset\n",
    "df = pd.read_csv('jobs2018311700.csv')"
   ]
  },
  {
   "cell_type": "markdown",
   "metadata": {},
   "source": [
    "#### Quick Look at null cells"
   ]
  },
  {
   "cell_type": "code",
   "execution_count": 1375,
   "metadata": {},
   "outputs": [
    {
     "name": "stdout",
     "output_type": "stream",
     "text": [
      "<class 'pandas.core.frame.DataFrame'>\n",
      "RangeIndex: 1612 entries, 0 to 1611\n",
      "Data columns (total 13 columns):\n",
      "Unnamed: 0               1604 non-null float64\n",
      "job_title                1612 non-null object\n",
      "job_company              1612 non-null object\n",
      "job_location             1551 non-null object\n",
      "job_seniority            1585 non-null object\n",
      "job_category             1612 non-null object\n",
      "job_employment_type      1612 non-null object\n",
      "job_salary_range_from    1485 non-null object\n",
      "job_salary_range_to      1485 non-null object\n",
      "job_salary_type          1485 non-null object\n",
      "job_details_url          1612 non-null object\n",
      "job_description          1611 non-null object\n",
      "job_requirements         1551 non-null object\n",
      "dtypes: float64(1), object(12)\n",
      "memory usage: 163.8+ KB\n"
     ]
    }
   ],
   "source": [
    "df.info()"
   ]
  },
  {
   "cell_type": "code",
   "execution_count": 1376,
   "metadata": {},
   "outputs": [],
   "source": [
    "df.rename(columns={'job_category':'job_industry'},inplace=True)"
   ]
  },
  {
   "cell_type": "code",
   "execution_count": 1377,
   "metadata": {},
   "outputs": [
    {
     "name": "stdout",
     "output_type": "stream",
     "text": [
      "<class 'pandas.core.frame.DataFrame'>\n",
      "Int64Index: 1485 entries, 0 to 1611\n",
      "Data columns (total 13 columns):\n",
      "Unnamed: 0               1477 non-null float64\n",
      "job_title                1485 non-null object\n",
      "job_company              1485 non-null object\n",
      "job_location             1466 non-null object\n",
      "job_seniority            1480 non-null object\n",
      "job_industry             1485 non-null object\n",
      "job_employment_type      1485 non-null object\n",
      "job_salary_range_from    1485 non-null object\n",
      "job_salary_range_to      1485 non-null object\n",
      "job_salary_type          1485 non-null object\n",
      "job_details_url          1485 non-null object\n",
      "job_description          1484 non-null object\n",
      "job_requirements         1466 non-null object\n",
      "dtypes: float64(1), object(12)\n",
      "memory usage: 162.4+ KB\n"
     ]
    }
   ],
   "source": [
    "# drop where salary is null\n",
    "df = df.dropna(subset=['job_salary_type'])\n",
    "df.info()"
   ]
  },
  {
   "cell_type": "code",
   "execution_count": 1378,
   "metadata": {},
   "outputs": [
    {
     "name": "stdout",
     "output_type": "stream",
     "text": [
      "<class 'pandas.core.frame.DataFrame'>\n",
      "Int64Index: 965 entries, 0 to 1611\n",
      "Data columns (total 12 columns):\n",
      "job_title                965 non-null object\n",
      "job_company              965 non-null object\n",
      "job_location             954 non-null object\n",
      "job_seniority            961 non-null object\n",
      "job_industry             965 non-null object\n",
      "job_employment_type      965 non-null object\n",
      "job_salary_range_from    965 non-null object\n",
      "job_salary_range_to      965 non-null object\n",
      "job_salary_type          965 non-null object\n",
      "job_details_url          965 non-null object\n",
      "job_description          964 non-null object\n",
      "job_requirements         954 non-null object\n",
      "dtypes: object(12)\n",
      "memory usage: 98.0+ KB\n"
     ]
    }
   ],
   "source": [
    "# drop duplicates\n",
    "df.drop_duplicates(subset=['job_title','job_company','job_location','job_industry'], keep='first', inplace=True)\n",
    "df.drop(columns='Unnamed: 0',inplace=True)\n",
    "df.info()"
   ]
  },
  {
   "cell_type": "code",
   "execution_count": 1379,
   "metadata": {},
   "outputs": [
    {
     "data": {
      "text/plain": [
       "(964, 12)"
      ]
     },
     "execution_count": 1379,
     "metadata": {},
     "output_type": "execute_result"
    }
   ],
   "source": [
    "# drop rows which were headers - when I joined multiple csv files\n",
    "df.drop(index=(df[df['job_location']=='job_location'].index),inplace=True)\n",
    "df.shape"
   ]
  },
  {
   "cell_type": "code",
   "execution_count": 1380,
   "metadata": {},
   "outputs": [
    {
     "data": {
      "text/html": [
       "<div>\n",
       "<style scoped>\n",
       "    .dataframe tbody tr th:only-of-type {\n",
       "        vertical-align: middle;\n",
       "    }\n",
       "\n",
       "    .dataframe tbody tr th {\n",
       "        vertical-align: top;\n",
       "    }\n",
       "\n",
       "    .dataframe thead th {\n",
       "        text-align: right;\n",
       "    }\n",
       "</style>\n",
       "<table border=\"1\" class=\"dataframe\">\n",
       "  <thead>\n",
       "    <tr style=\"text-align: right;\">\n",
       "      <th></th>\n",
       "      <th>job_title</th>\n",
       "      <th>job_company</th>\n",
       "      <th>job_location</th>\n",
       "      <th>job_seniority</th>\n",
       "      <th>job_industry</th>\n",
       "      <th>job_employment_type</th>\n",
       "      <th>job_salary_range_from</th>\n",
       "      <th>job_salary_range_to</th>\n",
       "      <th>job_salary_type</th>\n",
       "      <th>job_details_url</th>\n",
       "      <th>job_description</th>\n",
       "      <th>job_requirements</th>\n",
       "    </tr>\n",
       "  </thead>\n",
       "  <tbody>\n",
       "    <tr>\n",
       "      <th>54</th>\n",
       "      <td>Lecturer - IT Applications Development</td>\n",
       "      <td>Institute of Technical Education</td>\n",
       "      <td>NaN</td>\n",
       "      <td>Executive</td>\n",
       "      <td>Education and Training ...</td>\n",
       "      <td>Contract</td>\n",
       "      <td>$3,000</td>\n",
       "      <td>$6,000</td>\n",
       "      <td>Monthly</td>\n",
       "      <td>https://www.mycareersfuture.sg/job/lecturer-ap...</td>\n",
       "      <td>&lt;p&gt;&lt;strong&gt;Responsibilities&lt;/strong&gt;&lt;br&gt; &lt;br&gt;A...</td>\n",
       "      <td>NaN</td>\n",
       "    </tr>\n",
       "    <tr>\n",
       "      <th>67</th>\n",
       "      <td>Assistant Manager, GeoAnalytics</td>\n",
       "      <td>Singapore Land Authority</td>\n",
       "      <td>NaN</td>\n",
       "      <td>Middle Management</td>\n",
       "      <td>Information Technology ...</td>\n",
       "      <td>Full Time</td>\n",
       "      <td>$3,500</td>\n",
       "      <td>$6,800</td>\n",
       "      <td>Monthly</td>\n",
       "      <td>https://www.mycareersfuture.sg/job/assistant-m...</td>\n",
       "      <td>&lt;p&gt;&lt;strong&gt;Assistant Manager, GeoAnalytics&lt;/st...</td>\n",
       "      <td>NaN</td>\n",
       "    </tr>\n",
       "    <tr>\n",
       "      <th>68</th>\n",
       "      <td>Assistant Manager /  Technical Manager, GeoSpa...</td>\n",
       "      <td>Singapore Land Authority</td>\n",
       "      <td>NaN</td>\n",
       "      <td>Middle Management</td>\n",
       "      <td>Information Technology ...</td>\n",
       "      <td>Full Time</td>\n",
       "      <td>$4,000</td>\n",
       "      <td>$6,800</td>\n",
       "      <td>Monthly</td>\n",
       "      <td>https://www.mycareersfuture.sg/job/assistant-m...</td>\n",
       "      <td>&lt;p&gt;&lt;strong&gt;Assistant Manager/ Technical Manage...</td>\n",
       "      <td>NaN</td>\n",
       "    </tr>\n",
       "    <tr>\n",
       "      <th>204</th>\n",
       "      <td>Strategic Account Executive</td>\n",
       "      <td>TALEND SINGAPORE PTE. LTD.</td>\n",
       "      <td>NaN</td>\n",
       "      <td>Executive</td>\n",
       "      <td>Sales / Retail</td>\n",
       "      <td>Permanent</td>\n",
       "      <td>$140,000</td>\n",
       "      <td>$250,000</td>\n",
       "      <td>Annually</td>\n",
       "      <td>https://www.mycareersfuture.sg/job/strategic-a...</td>\n",
       "      <td>&lt;p&gt;&lt;strong&gt;Strategic Account Executive (Malays...</td>\n",
       "      <td>&lt;p&gt;Talend is hiring a results driven Account E...</td>\n",
       "    </tr>\n",
       "    <tr>\n",
       "      <th>842</th>\n",
       "      <td>Data Analyst - Data Transformation IMO</td>\n",
       "      <td>ROBERT WALTERS (SINGAPORE) PTE LTD</td>\n",
       "      <td>Central</td>\n",
       "      <td>Executive</td>\n",
       "      <td>Information Technology</td>\n",
       "      <td>Temporary ...</td>\n",
       "      <td>$6,000</td>\n",
       "      <td>$7,400</td>\n",
       "      <td>Monthly</td>\n",
       "      <td>https://www.mycareersfuture.sg/job/data-analys...</td>\n",
       "      <td>NaN</td>\n",
       "      <td>NaN</td>\n",
       "    </tr>\n",
       "    <tr>\n",
       "      <th>930</th>\n",
       "      <td>Senior Executive, Data Services</td>\n",
       "      <td>Singapore Land Authority</td>\n",
       "      <td>NaN</td>\n",
       "      <td>Fresh/entry level</td>\n",
       "      <td>Information Technology ...</td>\n",
       "      <td>Contract</td>\n",
       "      <td>$2,800</td>\n",
       "      <td>$5,600</td>\n",
       "      <td>Monthly</td>\n",
       "      <td>https://www.mycareersfuture.sg/job/senior-exec...</td>\n",
       "      <td>&lt;p&gt;&lt;strong&gt;Senior Executive, Data Services&lt;/st...</td>\n",
       "      <td>NaN</td>\n",
       "    </tr>\n",
       "    <tr>\n",
       "      <th>959</th>\n",
       "      <td>Senior Executive, Data Management</td>\n",
       "      <td>Singapore Land Authority</td>\n",
       "      <td>NaN</td>\n",
       "      <td>Executive</td>\n",
       "      <td>Information Technology ...</td>\n",
       "      <td>Contract</td>\n",
       "      <td>$2,800</td>\n",
       "      <td>$5,600</td>\n",
       "      <td>Monthly</td>\n",
       "      <td>https://www.mycareersfuture.sg/job/senior-exec...</td>\n",
       "      <td>&lt;p&gt;&lt;strong&gt;Senior Executive, Data Management&lt;/...</td>\n",
       "      <td>NaN</td>\n",
       "    </tr>\n",
       "    <tr>\n",
       "      <th>1159</th>\n",
       "      <td>Office of Information Services - Manager  /  D...</td>\n",
       "      <td>Republic Polytechnic</td>\n",
       "      <td>NaN</td>\n",
       "      <td>NaN</td>\n",
       "      <td>Education and Training ...</td>\n",
       "      <td>Full Time</td>\n",
       "      <td>$4,200</td>\n",
       "      <td>$7,300</td>\n",
       "      <td>Monthly</td>\n",
       "      <td>https://www.mycareersfuture.sg/job/office-info...</td>\n",
       "      <td>&lt;p&gt;&lt;strong&gt;Job Responsibilities&lt;/strong&gt;&lt;br&gt;- ...</td>\n",
       "      <td>NaN</td>\n",
       "    </tr>\n",
       "    <tr>\n",
       "      <th>1350</th>\n",
       "      <td>Senior / Principal Researcher, Underground Geo...</td>\n",
       "      <td>Singapore Land Authority</td>\n",
       "      <td>NaN</td>\n",
       "      <td>Executive</td>\n",
       "      <td>Information Technology ...</td>\n",
       "      <td>Full Time</td>\n",
       "      <td>$2,800</td>\n",
       "      <td>$5,600</td>\n",
       "      <td>Monthly</td>\n",
       "      <td>https://www.mycareersfuture.sg/job/senior-prin...</td>\n",
       "      <td>&lt;p&gt;&lt;strong&gt;Senior/Principal Researcher, Underg...</td>\n",
       "      <td>NaN</td>\n",
       "    </tr>\n",
       "    <tr>\n",
       "      <th>1399</th>\n",
       "      <td>Engineer (Complex Systems Modelling)</td>\n",
       "      <td>Housing and Development Board</td>\n",
       "      <td>NaN</td>\n",
       "      <td>NaN</td>\n",
       "      <td>Public / Civil Service</td>\n",
       "      <td>Contract</td>\n",
       "      <td>$2,400</td>\n",
       "      <td>$8,555</td>\n",
       "      <td>Monthly</td>\n",
       "      <td>https://www.mycareersfuture.sg/job/engineer-ho...</td>\n",
       "      <td>&lt;p&gt; &lt;/p&gt;&lt;p&gt;&lt;strong&gt;Responsibilities&lt;/strong&gt;&lt;/...</td>\n",
       "      <td>NaN</td>\n",
       "    </tr>\n",
       "    <tr>\n",
       "      <th>1436</th>\n",
       "      <td>Engineer (Analytics)</td>\n",
       "      <td>Housing and Development Board</td>\n",
       "      <td>NaN</td>\n",
       "      <td>NaN</td>\n",
       "      <td>Public / Civil Service</td>\n",
       "      <td>Contract</td>\n",
       "      <td>$2,400</td>\n",
       "      <td>$8,555</td>\n",
       "      <td>Monthly</td>\n",
       "      <td>https://www.mycareersfuture.sg/job/engineer-ho...</td>\n",
       "      <td>&lt;p&gt; &lt;/p&gt;&lt;p&gt;&lt;strong&gt;Responsibilities &lt;/strong&gt;&lt;...</td>\n",
       "      <td>NaN</td>\n",
       "    </tr>\n",
       "    <tr>\n",
       "      <th>1605</th>\n",
       "      <td>School of Infocomm - Research Staff (Data Anal...</td>\n",
       "      <td>Republic Polytechnic</td>\n",
       "      <td>NaN</td>\n",
       "      <td>NaN</td>\n",
       "      <td>Education and Training ...</td>\n",
       "      <td>Contract</td>\n",
       "      <td>$3,100</td>\n",
       "      <td>$5,300</td>\n",
       "      <td>Monthly</td>\n",
       "      <td>https://www.mycareersfuture.sg/job/school-info...</td>\n",
       "      <td>&lt;p&gt;&lt;strong&gt;Job Responsibilities&lt;/strong&gt;&lt;br&gt; W...</td>\n",
       "      <td>NaN</td>\n",
       "    </tr>\n",
       "  </tbody>\n",
       "</table>\n",
       "</div>"
      ],
      "text/plain": [
       "                                              job_title  \\\n",
       "54               Lecturer - IT Applications Development   \n",
       "67                      Assistant Manager, GeoAnalytics   \n",
       "68    Assistant Manager /  Technical Manager, GeoSpa...   \n",
       "204                         Strategic Account Executive   \n",
       "842              Data Analyst - Data Transformation IMO   \n",
       "930                     Senior Executive, Data Services   \n",
       "959                   Senior Executive, Data Management   \n",
       "1159  Office of Information Services - Manager  /  D...   \n",
       "1350  Senior / Principal Researcher, Underground Geo...   \n",
       "1399               Engineer (Complex Systems Modelling)   \n",
       "1436                               Engineer (Analytics)   \n",
       "1605  School of Infocomm - Research Staff (Data Anal...   \n",
       "\n",
       "                             job_company job_location      job_seniority  \\\n",
       "54      Institute of Technical Education          NaN          Executive   \n",
       "67              Singapore Land Authority          NaN  Middle Management   \n",
       "68              Singapore Land Authority          NaN  Middle Management   \n",
       "204           TALEND SINGAPORE PTE. LTD.          NaN          Executive   \n",
       "842   ROBERT WALTERS (SINGAPORE) PTE LTD      Central          Executive   \n",
       "930             Singapore Land Authority          NaN  Fresh/entry level   \n",
       "959             Singapore Land Authority          NaN          Executive   \n",
       "1159                Republic Polytechnic          NaN                NaN   \n",
       "1350            Singapore Land Authority          NaN          Executive   \n",
       "1399       Housing and Development Board          NaN                NaN   \n",
       "1436       Housing and Development Board          NaN                NaN   \n",
       "1605                Republic Polytechnic          NaN                NaN   \n",
       "\n",
       "                    job_industry job_employment_type job_salary_range_from  \\\n",
       "54    Education and Training ...            Contract                $3,000   \n",
       "67    Information Technology ...           Full Time                $3,500   \n",
       "68    Information Technology ...           Full Time                $4,000   \n",
       "204              Sales / Retail            Permanent              $140,000   \n",
       "842       Information Technology       Temporary ...                $6,000   \n",
       "930   Information Technology ...            Contract                $2,800   \n",
       "959   Information Technology ...            Contract                $2,800   \n",
       "1159  Education and Training ...           Full Time                $4,200   \n",
       "1350  Information Technology ...           Full Time                $2,800   \n",
       "1399      Public / Civil Service            Contract                $2,400   \n",
       "1436      Public / Civil Service            Contract                $2,400   \n",
       "1605  Education and Training ...            Contract                $3,100   \n",
       "\n",
       "     job_salary_range_to job_salary_type  \\\n",
       "54                $6,000         Monthly   \n",
       "67                $6,800         Monthly   \n",
       "68                $6,800         Monthly   \n",
       "204             $250,000        Annually   \n",
       "842               $7,400         Monthly   \n",
       "930               $5,600         Monthly   \n",
       "959               $5,600         Monthly   \n",
       "1159              $7,300         Monthly   \n",
       "1350              $5,600         Monthly   \n",
       "1399              $8,555         Monthly   \n",
       "1436              $8,555         Monthly   \n",
       "1605              $5,300         Monthly   \n",
       "\n",
       "                                        job_details_url  \\\n",
       "54    https://www.mycareersfuture.sg/job/lecturer-ap...   \n",
       "67    https://www.mycareersfuture.sg/job/assistant-m...   \n",
       "68    https://www.mycareersfuture.sg/job/assistant-m...   \n",
       "204   https://www.mycareersfuture.sg/job/strategic-a...   \n",
       "842   https://www.mycareersfuture.sg/job/data-analys...   \n",
       "930   https://www.mycareersfuture.sg/job/senior-exec...   \n",
       "959   https://www.mycareersfuture.sg/job/senior-exec...   \n",
       "1159  https://www.mycareersfuture.sg/job/office-info...   \n",
       "1350  https://www.mycareersfuture.sg/job/senior-prin...   \n",
       "1399  https://www.mycareersfuture.sg/job/engineer-ho...   \n",
       "1436  https://www.mycareersfuture.sg/job/engineer-ho...   \n",
       "1605  https://www.mycareersfuture.sg/job/school-info...   \n",
       "\n",
       "                                        job_description  \\\n",
       "54    <p><strong>Responsibilities</strong><br> <br>A...   \n",
       "67    <p><strong>Assistant Manager, GeoAnalytics</st...   \n",
       "68    <p><strong>Assistant Manager/ Technical Manage...   \n",
       "204   <p><strong>Strategic Account Executive (Malays...   \n",
       "842                                                 NaN   \n",
       "930   <p><strong>Senior Executive, Data Services</st...   \n",
       "959   <p><strong>Senior Executive, Data Management</...   \n",
       "1159  <p><strong>Job Responsibilities</strong><br>- ...   \n",
       "1350  <p><strong>Senior/Principal Researcher, Underg...   \n",
       "1399  <p> </p><p><strong>Responsibilities</strong></...   \n",
       "1436  <p> </p><p><strong>Responsibilities </strong><...   \n",
       "1605  <p><strong>Job Responsibilities</strong><br> W...   \n",
       "\n",
       "                                       job_requirements  \n",
       "54                                                  NaN  \n",
       "67                                                  NaN  \n",
       "68                                                  NaN  \n",
       "204   <p>Talend is hiring a results driven Account E...  \n",
       "842                                                 NaN  \n",
       "930                                                 NaN  \n",
       "959                                                 NaN  \n",
       "1159                                                NaN  \n",
       "1350                                                NaN  \n",
       "1399                                                NaN  \n",
       "1436                                                NaN  \n",
       "1605                                                NaN  "
      ]
     },
     "execution_count": 1380,
     "metadata": {},
     "output_type": "execute_result"
    }
   ],
   "source": [
    "# Take a quick look at rows where any values are null\n",
    "df[df.isnull().any(axis=1)]\n",
    "# Let's handle nulls as part of cleaning up each feature"
   ]
  },
  {
   "cell_type": "markdown",
   "metadata": {},
   "source": [
    "<a id='clean_data_job_title'/>\n",
    "#### Let's clean job_title"
   ]
  },
  {
   "cell_type": "code",
   "execution_count": 1381,
   "metadata": {},
   "outputs": [
    {
     "data": {
      "text/plain": [
       "Business Analyst                                                                                        58\n",
       "Data Scientist                                                                                          39\n",
       "Data Engineer                                                                                           23\n",
       "Data Analyst                                                                                            20\n",
       "Senior Business Analyst                                                                                 19\n",
       "Senior Data Scientist                                                                                    6\n",
       "Information Technology Business Analyst                                                                  5\n",
       "IT Business Analyst                                                                                      5\n",
       "Research Fellow                                                                                          5\n",
       "Business System Analyst                                                                                  4\n",
       "Business Intelligence Analyst                                                                            4\n",
       "Salesforce Business Analyst                                                                              4\n",
       "Research Engineer                                                                                        4\n",
       "Senior Data Engineer                                                                                     4\n",
       "Project Manager                                                                                          4\n",
       "Application Developer                                                                                    3\n",
       "Associate Consultant                                                                                     3\n",
       "Software Engineer                                                                                        3\n",
       "Front End Developer                                                                                      3\n",
       "Research Associate                                                                                       3\n",
       "Big Data Engineer                                                                                        3\n",
       "Machine Learning Engineer                                                                                3\n",
       "Assistant Vice President, Business Analyst                                                               2\n",
       "Manager, Data Engineer                                                                                   2\n",
       "Technical Analyst                                                                                        2\n",
       "DevOps Engineer                                                                                          2\n",
       "Technical Consultant                                                                                     2\n",
       "Senior Consultant                                                                                        2\n",
       "IT Business Process Consultant  /  Business Analyst                                                      2\n",
       "Project Coordinator  /  Business Analyst – Digital innovation                                            2\n",
       "                                                                                                        ..\n",
       "Backend Developer                                                                                        1\n",
       "Head of Integrated Campaigns and Strategic Events, Field Marketing, Google Cloud - Singapore             1\n",
       "Regional Data Analyst                                                                                    1\n",
       "Principal Consultant (Recruitment)                                                                       1\n",
       "Securities, FICC Asia Sales, E-business Fx, Analyst                                                      1\n",
       "Applied Research Scientist - Client Solutions                                                            1\n",
       "Manager, Artist and Label Marketing - Philippines                                                        1\n",
       "Senior Visualization Developer                                                                           1\n",
       "AVP  /  Senior Associate, Data Analyst, Analytic Center of Excellence, Transformation Grp (180003G5)     1\n",
       "Senior Security Engineer, Threat Hunter - Senior Associate                                               1\n",
       "Data Analyst, Marketing                                                                                  1\n",
       "Backend Engineer                                                                                         1\n",
       "Senior Business Analyst – Regulatory Reporting                                                           1\n",
       "Lead Data Engineer (Established FinTech Co / East)                                                       1\n",
       "Senior Manager Digital Solution                                                                          1\n",
       "KYC Automation Program Director                                                                          1\n",
       "Assistant Vice President, Senior Business Intelligence Specialist                                        1\n",
       "Software Engineer - Singapore                                                                            1\n",
       "APAC Data Engineer                                                                                       1\n",
       "MCT Big Data Senior Engineer                                                                             1\n",
       "Design Engineer / Electronic Component MNC / 5 days week / Max $5500                                     1\n",
       "Senior Oil Markets Analyst – Energy trading                                                              1\n",
       "Manager, Technology Assurance                                                                            1\n",
       "Web Developer                                                                                            1\n",
       "Senior Trade Marketing Executive                                                                         1\n",
       "Vice President, Information Technology                                                                   1\n",
       "UX / UI Designer                                                                                         1\n",
       "Research Engineer / Research Fellow                                                                      1\n",
       "Junior Site Reliability Engineer                                                                         1\n",
       "Machine Learning Artificial Intelligence Engineer                                                        1\n",
       "Name: job_title, Length: 733, dtype: int64"
      ]
     },
     "execution_count": 1381,
     "metadata": {},
     "output_type": "execute_result"
    }
   ],
   "source": [
    "df['job_title'].value_counts()"
   ]
  },
  {
   "cell_type": "code",
   "execution_count": 1382,
   "metadata": {},
   "outputs": [
    {
     "data": {
      "text/html": [
       "<div>\n",
       "<style scoped>\n",
       "    .dataframe tbody tr th:only-of-type {\n",
       "        vertical-align: middle;\n",
       "    }\n",
       "\n",
       "    .dataframe tbody tr th {\n",
       "        vertical-align: top;\n",
       "    }\n",
       "\n",
       "    .dataframe thead th {\n",
       "        text-align: right;\n",
       "    }\n",
       "</style>\n",
       "<table border=\"1\" class=\"dataframe\">\n",
       "  <thead>\n",
       "    <tr style=\"text-align: right;\">\n",
       "      <th></th>\n",
       "      <th>job_title</th>\n",
       "      <th>job_company</th>\n",
       "      <th>job_location</th>\n",
       "      <th>job_seniority</th>\n",
       "      <th>job_industry</th>\n",
       "      <th>job_employment_type</th>\n",
       "      <th>job_salary_range_from</th>\n",
       "      <th>job_salary_range_to</th>\n",
       "      <th>job_salary_type</th>\n",
       "      <th>job_details_url</th>\n",
       "      <th>job_description</th>\n",
       "      <th>job_requirements</th>\n",
       "    </tr>\n",
       "  </thead>\n",
       "  <tbody>\n",
       "    <tr>\n",
       "      <th>25</th>\n",
       "      <td>Sr  /  Design Engineer (Software)</td>\n",
       "      <td>JABIL CIRCUIT (SINGAPORE) PTE. LTD.</td>\n",
       "      <td>East</td>\n",
       "      <td>Executive</td>\n",
       "      <td>Engineering ...</td>\n",
       "      <td>Permanent ...</td>\n",
       "      <td>$3,000</td>\n",
       "      <td>$5,500</td>\n",
       "      <td>Monthly</td>\n",
       "      <td>https://www.mycareersfuture.sg/job/sr-design-e...</td>\n",
       "      <td>&lt;p&gt;&lt;strong&gt;SUMMARY&lt;/strong&gt;&lt;/p&gt;&lt;p&gt;The Design E...</td>\n",
       "      <td>&lt;p&gt;&lt;strong&gt;MINIMUM REQUIREMENTS&lt;/strong&gt;&lt;/p&gt;&lt;p...</td>\n",
       "    </tr>\n",
       "    <tr>\n",
       "      <th>1180</th>\n",
       "      <td>Design Engineer / Electronic Component MNC / 5...</td>\n",
       "      <td>CAREER TREND PTE. LTD.</td>\n",
       "      <td>North</td>\n",
       "      <td>Senior Executive</td>\n",
       "      <td>Information Technology</td>\n",
       "      <td>Full Time</td>\n",
       "      <td>$4,000</td>\n",
       "      <td>$5,500</td>\n",
       "      <td>Monthly</td>\n",
       "      <td>https://www.mycareersfuture.sg/job/design-engi...</td>\n",
       "      <td>&lt;p&gt;&lt;strong&gt;Work with marketing teams building ...</td>\n",
       "      <td>&lt;p&gt;• Programming skills in C++/C and Python&lt;br...</td>\n",
       "    </tr>\n",
       "  </tbody>\n",
       "</table>\n",
       "</div>"
      ],
      "text/plain": [
       "                                              job_title  \\\n",
       "25                    Sr  /  Design Engineer (Software)   \n",
       "1180  Design Engineer / Electronic Component MNC / 5...   \n",
       "\n",
       "                              job_company job_location     job_seniority  \\\n",
       "25    JABIL CIRCUIT (SINGAPORE) PTE. LTD.         East         Executive   \n",
       "1180               CAREER TREND PTE. LTD.        North  Senior Executive   \n",
       "\n",
       "                job_industry job_employment_type job_salary_range_from  \\\n",
       "25           Engineering ...       Permanent ...                $3,000   \n",
       "1180  Information Technology           Full Time                $4,000   \n",
       "\n",
       "     job_salary_range_to job_salary_type  \\\n",
       "25                $5,500         Monthly   \n",
       "1180              $5,500         Monthly   \n",
       "\n",
       "                                        job_details_url  \\\n",
       "25    https://www.mycareersfuture.sg/job/sr-design-e...   \n",
       "1180  https://www.mycareersfuture.sg/job/design-engi...   \n",
       "\n",
       "                                        job_description  \\\n",
       "25    <p><strong>SUMMARY</strong></p><p>The Design E...   \n",
       "1180  <p><strong>Work with marketing teams building ...   \n",
       "\n",
       "                                       job_requirements  \n",
       "25    <p><strong>MINIMUM REQUIREMENTS</strong></p><p...  \n",
       "1180  <p>• Programming skills in C++/C and Python<br...  "
      ]
     },
     "execution_count": 1382,
     "metadata": {},
     "output_type": "execute_result"
    }
   ],
   "source": [
    "df[df['job_title'].str.contains('Design Engineer')]"
   ]
  },
  {
   "cell_type": "code",
   "execution_count": 1383,
   "metadata": {},
   "outputs": [
    {
     "data": {
      "text/plain": [
       "Business Analyst                                                                                  58\n",
       "Data Scientist                                                                                    39\n",
       "Data Engineer                                                                                     23\n",
       "Data Analyst                                                                                      21\n",
       "Senior Business Analyst                                                                           19\n",
       "Senior Data Scientist                                                                              6\n",
       "Information Technology Business Analyst                                                            5\n",
       "Research Fellow                                                                                    5\n",
       "IT Business Analyst                                                                                5\n",
       "Project Manager                                                                                    4\n",
       "Business System Analyst                                                                            4\n",
       "Research Engineer                                                                                  4\n",
       "Big Data Engineer                                                                                  4\n",
       "Business Intelligence Analyst                                                                      4\n",
       "Senior Data Engineer                                                                               4\n",
       "Salesforce Business Analyst                                                                        4\n",
       "Front End Developer                                                                                3\n",
       "Application Developer                                                                              3\n",
       "Research Associate                                                                                 3\n",
       "Software Engineer                                                                                  3\n",
       "Machine Learning Engineer                                                                          3\n",
       "Associate Consultant                                                                               3\n",
       "DevOps Engineer                                                                                    2\n",
       "Data Analyst Marketing                                                                             2\n",
       "Data Center Engineer                                                                               2\n",
       "IT Business Process Consultant    Business Analyst                                                 2\n",
       "Technical Analyst                                                                                  2\n",
       "iOS Developer                                                                                      2\n",
       "Datawarehouse Consultant                                                                           2\n",
       "Big Data Developer                                                                                 2\n",
       "                                                                                                  ..\n",
       "AVP    Senior Associate Data Engineer IBG Digital Institutional Banking Group 1800044U             1\n",
       "hiring data architect direct applicants only                                                       1\n",
       "Customer Solutions Engineer gTech  Singapore                                                       1\n",
       "Data Platform Engineer                                                                             1\n",
       "Research Engineer Green Building Technology EPGC                                                   1\n",
       "System Analyst Business Analyst                                                                    1\n",
       "DD9083141  Finance Business Partner and Analyst 36 months                                          1\n",
       "Specialist Mobility Infrastructure Services                                                        1\n",
       "Senior Research Engineer                                                                           1\n",
       "AVP    Senior Associate Data Analyst Analytic Center of Excellence Transformation Grp 180003G5     1\n",
       "Data Analyst  Scientist Tableau SQLExcel and VBA macro                                             1\n",
       "Change    Risk Business Analyst                                                                    1\n",
       "Backend Engineer                                                                                   1\n",
       "Senior Business Analyst – Regulatory Reporting                                                     1\n",
       "Senior Manager Digital Solution                                                                    1\n",
       "KYC Automation Program Director                                                                    1\n",
       "Sr    Design Engineer Software                                                                     1\n",
       "APAC Data Engineer                                                                                 1\n",
       "Algorithm Engineer                                                                                 1\n",
       "MCT Big Data Senior Engineer                                                                       1\n",
       "Senior Oil Markets Analyst – Energy trading                                                        1\n",
       "Master Data Analyst                                                                                1\n",
       "Web Developer                                                                                      1\n",
       "Senior Trade Marketing Executive                                                                   1\n",
       "Business Intelligence Finance Senior Analyst    Manager  Global Healthcare MNC                     1\n",
       "Autonomous Driving Research  Engineering Intern                                                    1\n",
       "Digital Sales  Marketing Specialist West Up to 35K                                                 1\n",
       "Junior Site Reliability Engineer                                                                   1\n",
       "Software Engineer Web Applications                                                                 1\n",
       "Vice President Information Technology                                                              1\n",
       "Name: job_title, Length: 729, dtype: int64"
      ]
     },
     "execution_count": 1383,
     "metadata": {},
     "output_type": "execute_result"
    }
   ],
   "source": [
    "# expression to brackets with numbers e.g. and punctuation\n",
    "expr = re.compile('\\([0-9]*\\)|[%s]' % re.escape(string.punctuation))\n",
    "\n",
    "df['job_title'] = df['job_title'].str.replace(expr, '').str.strip(' ')\n",
    "df['job_title'].value_counts()"
   ]
  },
  {
   "cell_type": "code",
   "execution_count": 1384,
   "metadata": {},
   "outputs": [
    {
     "data": {
      "text/html": [
       "<div>\n",
       "<style scoped>\n",
       "    .dataframe tbody tr th:only-of-type {\n",
       "        vertical-align: middle;\n",
       "    }\n",
       "\n",
       "    .dataframe tbody tr th {\n",
       "        vertical-align: top;\n",
       "    }\n",
       "\n",
       "    .dataframe thead th {\n",
       "        text-align: right;\n",
       "    }\n",
       "</style>\n",
       "<table border=\"1\" class=\"dataframe\">\n",
       "  <thead>\n",
       "    <tr style=\"text-align: right;\">\n",
       "      <th></th>\n",
       "      <th>job_title</th>\n",
       "      <th>job_company</th>\n",
       "      <th>job_location</th>\n",
       "      <th>job_seniority</th>\n",
       "      <th>job_industry</th>\n",
       "      <th>job_employment_type</th>\n",
       "      <th>job_salary_range_from</th>\n",
       "      <th>job_salary_range_to</th>\n",
       "      <th>job_salary_type</th>\n",
       "      <th>job_details_url</th>\n",
       "      <th>job_description</th>\n",
       "      <th>job_requirements</th>\n",
       "    </tr>\n",
       "  </thead>\n",
       "  <tbody>\n",
       "    <tr>\n",
       "      <th>1</th>\n",
       "      <td>Senior Designer UI  UX</td>\n",
       "      <td>PALM 3 ASIA PTE. LTD.</td>\n",
       "      <td>East</td>\n",
       "      <td>Senior Executive</td>\n",
       "      <td>Design</td>\n",
       "      <td>Full Time</td>\n",
       "      <td>$4,000</td>\n",
       "      <td>$7,000</td>\n",
       "      <td>Monthly</td>\n",
       "      <td>https://www.mycareersfuture.sg/job/senior-desi...</td>\n",
       "      <td>&lt;p&gt;&lt;strong&gt;&lt;u&gt;About Asia Finance &lt;/u&gt;&lt;/strong&gt;...</td>\n",
       "      <td>&lt;p&gt;&lt;strong&gt;Requirements:&lt;/strong&gt;&lt;/p&gt;&lt;ul&gt;  &lt;li...</td>\n",
       "    </tr>\n",
       "    <tr>\n",
       "      <th>25</th>\n",
       "      <td>Sr    Design Engineer Software</td>\n",
       "      <td>JABIL CIRCUIT (SINGAPORE) PTE. LTD.</td>\n",
       "      <td>East</td>\n",
       "      <td>Executive</td>\n",
       "      <td>Engineering ...</td>\n",
       "      <td>Permanent ...</td>\n",
       "      <td>$3,000</td>\n",
       "      <td>$5,500</td>\n",
       "      <td>Monthly</td>\n",
       "      <td>https://www.mycareersfuture.sg/job/sr-design-e...</td>\n",
       "      <td>&lt;p&gt;&lt;strong&gt;SUMMARY&lt;/strong&gt;&lt;/p&gt;&lt;p&gt;The Design E...</td>\n",
       "      <td>&lt;p&gt;&lt;strong&gt;MINIMUM REQUIREMENTS&lt;/strong&gt;&lt;/p&gt;&lt;p...</td>\n",
       "    </tr>\n",
       "    <tr>\n",
       "      <th>85</th>\n",
       "      <td>Senior Application Designer  Lead  Senior UX D...</td>\n",
       "      <td>PALO IT SINGAPORE PTE. LTD.</td>\n",
       "      <td>Central</td>\n",
       "      <td>Manager ...</td>\n",
       "      <td>Information Technology</td>\n",
       "      <td>Permanent ...</td>\n",
       "      <td>$7,000</td>\n",
       "      <td>$14,000</td>\n",
       "      <td>Monthly</td>\n",
       "      <td>https://www.mycareersfuture.sg/job/senior-appl...</td>\n",
       "      <td>&lt;p&gt;Palo IT is an innovation &amp;amp; agile develo...</td>\n",
       "      <td>&lt;p&gt;✔ Bachelor’s Degree in Design, Multimedia, ...</td>\n",
       "    </tr>\n",
       "    <tr>\n",
       "      <th>86</th>\n",
       "      <td>Application Designer  UX Designer</td>\n",
       "      <td>PALO IT SINGAPORE PTE. LTD.</td>\n",
       "      <td>Central</td>\n",
       "      <td>Manager ...</td>\n",
       "      <td>Information Technology</td>\n",
       "      <td>Permanent ...</td>\n",
       "      <td>$7,000</td>\n",
       "      <td>$14,000</td>\n",
       "      <td>Monthly</td>\n",
       "      <td>https://www.mycareersfuture.sg/job/application...</td>\n",
       "      <td>&lt;p&gt;Palo IT is an innovation &amp;amp; agile develo...</td>\n",
       "      <td>&lt;p&gt;✔ Bachelor’s Degree in Design, Multimedia, ...</td>\n",
       "    </tr>\n",
       "    <tr>\n",
       "      <th>91</th>\n",
       "      <td>Informatica and Cognos Solution Designer</td>\n",
       "      <td>SANDBOX CONSULTING PTE. LTD.</td>\n",
       "      <td>Islandwide</td>\n",
       "      <td>Senior Management ...</td>\n",
       "      <td>Information Technology</td>\n",
       "      <td>Permanent ...</td>\n",
       "      <td>$7,000</td>\n",
       "      <td>$7,500</td>\n",
       "      <td>Monthly</td>\n",
       "      <td>https://www.mycareersfuture.sg/job/informatica...</td>\n",
       "      <td>&lt;p&gt;·         Total Experience of 8 to 11 years...</td>\n",
       "      <td>&lt;p&gt;·         Total Experience of 8 to 11 years...</td>\n",
       "    </tr>\n",
       "    <tr>\n",
       "      <th>233</th>\n",
       "      <td>Senior UI Architect</td>\n",
       "      <td>SMARTSOFT PTE. LTD.</td>\n",
       "      <td>South, East, West, Central</td>\n",
       "      <td>Professional</td>\n",
       "      <td>Information Technology</td>\n",
       "      <td>Contract</td>\n",
       "      <td>$6,200</td>\n",
       "      <td>$11,500</td>\n",
       "      <td>Monthly</td>\n",
       "      <td>https://www.mycareersfuture.sg/job/senior-ui-a...</td>\n",
       "      <td>&lt;p&gt;Design, Development &amp;amp; Architect of web ...</td>\n",
       "      <td>&lt;p&gt;Commercial software engineering: You should...</td>\n",
       "    </tr>\n",
       "    <tr>\n",
       "      <th>254</th>\n",
       "      <td>Information Designer</td>\n",
       "      <td>IBM GLOBAL SERVICES PTE. LTD.</td>\n",
       "      <td>Central</td>\n",
       "      <td>Professional</td>\n",
       "      <td>Information Technology</td>\n",
       "      <td>Permanent</td>\n",
       "      <td>$3,500</td>\n",
       "      <td>$5,500</td>\n",
       "      <td>Monthly</td>\n",
       "      <td>https://www.mycareersfuture.sg/job/information...</td>\n",
       "      <td>&lt;p&gt;&lt;strong&gt;Graphics, Video and Multimedia Desi...</td>\n",
       "      <td>&lt;ul&gt;  &lt;li&gt;Work proactively within Quote to Cas...</td>\n",
       "    </tr>\n",
       "    <tr>\n",
       "      <th>1373</th>\n",
       "      <td>UX  UI Designer</td>\n",
       "      <td>ANYCONNECT PRIVATE LIMITED</td>\n",
       "      <td>East</td>\n",
       "      <td>Non-executive</td>\n",
       "      <td>Information Technology</td>\n",
       "      <td>Full Time</td>\n",
       "      <td>$4,500</td>\n",
       "      <td>$5,000</td>\n",
       "      <td>Monthly</td>\n",
       "      <td>https://www.mycareersfuture.sg/job/ux-ui-desig...</td>\n",
       "      <td>&lt;p&gt;AnyConnect is seeking UX/UI Designers to co...</td>\n",
       "      <td>&lt;p&gt;Requirements:&lt;/p&gt;&lt;ul&gt;   &lt;li&gt; &lt;p&gt;A universit...</td>\n",
       "    </tr>\n",
       "  </tbody>\n",
       "</table>\n",
       "</div>"
      ],
      "text/plain": [
       "                                              job_title  \\\n",
       "1                                Senior Designer UI  UX   \n",
       "25                       Sr    Design Engineer Software   \n",
       "85    Senior Application Designer  Lead  Senior UX D...   \n",
       "86                    Application Designer  UX Designer   \n",
       "91             Informatica and Cognos Solution Designer   \n",
       "233                                 Senior UI Architect   \n",
       "254                                Information Designer   \n",
       "1373                                    UX  UI Designer   \n",
       "\n",
       "                              job_company                job_location  \\\n",
       "1                   PALM 3 ASIA PTE. LTD.                        East   \n",
       "25    JABIL CIRCUIT (SINGAPORE) PTE. LTD.                        East   \n",
       "85            PALO IT SINGAPORE PTE. LTD.                     Central   \n",
       "86            PALO IT SINGAPORE PTE. LTD.                     Central   \n",
       "91           SANDBOX CONSULTING PTE. LTD.                  Islandwide   \n",
       "233                   SMARTSOFT PTE. LTD.  South, East, West, Central   \n",
       "254         IBM GLOBAL SERVICES PTE. LTD.                     Central   \n",
       "1373           ANYCONNECT PRIVATE LIMITED                        East   \n",
       "\n",
       "              job_seniority            job_industry job_employment_type  \\\n",
       "1          Senior Executive                  Design           Full Time   \n",
       "25                Executive         Engineering ...       Permanent ...   \n",
       "85              Manager ...  Information Technology       Permanent ...   \n",
       "86              Manager ...  Information Technology       Permanent ...   \n",
       "91    Senior Management ...  Information Technology       Permanent ...   \n",
       "233            Professional  Information Technology            Contract   \n",
       "254            Professional  Information Technology           Permanent   \n",
       "1373          Non-executive  Information Technology           Full Time   \n",
       "\n",
       "     job_salary_range_from job_salary_range_to job_salary_type  \\\n",
       "1                   $4,000              $7,000         Monthly   \n",
       "25                  $3,000              $5,500         Monthly   \n",
       "85                  $7,000             $14,000         Monthly   \n",
       "86                  $7,000             $14,000         Monthly   \n",
       "91                  $7,000              $7,500         Monthly   \n",
       "233                 $6,200             $11,500         Monthly   \n",
       "254                 $3,500              $5,500         Monthly   \n",
       "1373                $4,500              $5,000         Monthly   \n",
       "\n",
       "                                        job_details_url  \\\n",
       "1     https://www.mycareersfuture.sg/job/senior-desi...   \n",
       "25    https://www.mycareersfuture.sg/job/sr-design-e...   \n",
       "85    https://www.mycareersfuture.sg/job/senior-appl...   \n",
       "86    https://www.mycareersfuture.sg/job/application...   \n",
       "91    https://www.mycareersfuture.sg/job/informatica...   \n",
       "233   https://www.mycareersfuture.sg/job/senior-ui-a...   \n",
       "254   https://www.mycareersfuture.sg/job/information...   \n",
       "1373  https://www.mycareersfuture.sg/job/ux-ui-desig...   \n",
       "\n",
       "                                        job_description  \\\n",
       "1     <p><strong><u>About Asia Finance </u></strong>...   \n",
       "25    <p><strong>SUMMARY</strong></p><p>The Design E...   \n",
       "85    <p>Palo IT is an innovation &amp; agile develo...   \n",
       "86    <p>Palo IT is an innovation &amp; agile develo...   \n",
       "91    <p>·         Total Experience of 8 to 11 years...   \n",
       "233   <p>Design, Development &amp; Architect of web ...   \n",
       "254   <p><strong>Graphics, Video and Multimedia Desi...   \n",
       "1373  <p>AnyConnect is seeking UX/UI Designers to co...   \n",
       "\n",
       "                                       job_requirements  \n",
       "1     <p><strong>Requirements:</strong></p><ul>  <li...  \n",
       "25    <p><strong>MINIMUM REQUIREMENTS</strong></p><p...  \n",
       "85    <p>✔ Bachelor’s Degree in Design, Multimedia, ...  \n",
       "86    <p>✔ Bachelor’s Degree in Design, Multimedia, ...  \n",
       "91    <p>·         Total Experience of 8 to 11 years...  \n",
       "233   <p>Commercial software engineering: You should...  \n",
       "254   <ul>  <li>Work proactively within Quote to Cas...  \n",
       "1373  <p>Requirements:</p><ul>   <li> <p>A universit...  "
      ]
     },
     "execution_count": 1384,
     "metadata": {},
     "output_type": "execute_result"
    }
   ],
   "source": [
    "# Fish out potentially irrelevant jobs by fishy words in job titles e.g. 'UX'\n",
    "df[df['job_title'].str.lower().str.contains('|'.join(['ui ','ux ',' design']))]"
   ]
  },
  {
   "cell_type": "markdown",
   "metadata": {},
   "source": [
    "<a id='clean_data_job_company'/>\n",
    "#### Let's clean job_company"
   ]
  },
  {
   "cell_type": "code",
   "execution_count": 1385,
   "metadata": {},
   "outputs": [
    {
     "data": {
      "text/plain": [
       "array(['JPMORGAN CHASE BANK, N.A.', 'PALM 3 ASIA PTE. LTD.',\n",
       "       'GOOGLE ASIA PACIFIC PTE. LTD.', 'A*STAR RESEARCH ENTITIES',\n",
       "       'Company Undisclosed', 'INVOSYSTEMS SOLUTIONS PTE. LTD.',\n",
       "       'DBS BANK LTD.', 'AIA SINGAPORE PRIVATE LIMITED',\n",
       "       'ASPENTECH PTE. LTD.', 'ASIACLOUD SOLUTIONS PRIVATE LIMITED',\n",
       "       'TALEND SINGAPORE PTE. LTD.', '6ESTATES PTE. LTD.',\n",
       "       'JABIL CIRCUIT (SINGAPORE) PTE. LTD.', 'IOTALENTS PTE. LTD.',\n",
       "       'APPLE SOUTH ASIA PTE. LTD.', 'TERALYTICS PTE. LTD.',\n",
       "       'LIE XIAN PTE. LTD.',\n",
       "       'ORACLE CAPAC SERVICES UNLIMITED COMPANY (SINGAPORE BRANCH)',\n",
       "       'SKYSCANNER PRIVATE LIMITED', 'SCHELLDEN GLOBAL PTE. LTD.',\n",
       "       'Institute of Technical Education', 'PALO IT SINGAPORE PTE. LTD.',\n",
       "       'CLOUDSTREAM ASIA PACIFIC PTE. LTD.',\n",
       "       'OVERSEA-CHINESE BANKING CORPORATION LIMITED',\n",
       "       'COGNIZANT TECHNOLOGY SOLUTIONS ASIA PACIFIC PTE. LTD.',\n",
       "       'VISA WORLDWIDE PTE. LIMITED',\n",
       "       'CHARLES & KEITH (SINGAPORE) PTE. LTD.',\n",
       "       'Singapore Land Authority', 'SIEMENS MOBILITY PTE. LTD.',\n",
       "       'SMARTSOFT PTE. LTD.', 'FUTUREX TECHNOLOGIES PTE. LTD.',\n",
       "       'ZALORA SOUTH EAST ASIA PTE. LTD.',\n",
       "       'MOKA TECHNOLOGY SOLUTIONS PTE. LTD.', 'CHEIL SINGAPORE PTE. LTD.',\n",
       "       'CAPITAL MATCH PLATFORM PTE. LTD.',\n",
       "       'WIPRO LIMITED (SINGAPORE BRANCH)', 'OMNITRIBE PTE. LTD.',\n",
       "       'ACCENTURE PTE LTD', 'VUI SYSTEMS PTE. LTD.',\n",
       "       'GOLDMAN SACHS SERVICES (SINGAPORE) PTE. LTD.',\n",
       "       'AVIVA ASIA PTE LTD', 'SANDBOX CONSULTING PTE. LTD.',\n",
       "       'ABAKUS (ASIA PACIFIC) PTE. LTD.', 'CITIBANK N.A.',\n",
       "       'PRUDENTIAL ASSURANCE COMPANY SINGAPORE (PTE) LIMITED',\n",
       "       'SINGAPORE UNIVERSITY OF TECHNOLOGY AND DESIGN',\n",
       "       'INTEGRATED HEALTH INFORMATION SYSTEMS PTE. LTD.',\n",
       "       'GRABTAXI HOLDINGS PTE. LTD.', 'PEOPLE PROFILERS PTE. LTD.',\n",
       "       'QUINNOX SOLUTIONS PTE. LTD.', 'SINGX PTE. LTD.',\n",
       "       'NTUC ENTERPRISE NEXUS CO-OPERATIVE LIMITED',\n",
       "       'NTUC LINK PRIVATE LIMITED', 'GOLDMAN SACHS FUTURES PTE LTD',\n",
       "       'JEWEL PAYMENTECH PTE. LTD.',\n",
       "       'AIRBUS SERVICES ASIA PACIFIC PTE. LTD.',\n",
       "       '3TOP CONSULTING PTE. LTD.',\n",
       "       'MANPOWER STAFFING SERVICES (SINGAPORE) PTE LTD',\n",
       "       'TRAVELOKA SERVICES PTE. LTD.', 'NANYANG TECHNOLOGICAL UNIVERSITY',\n",
       "       'NATIONAL UNIVERSITY OF SINGAPORE', 'EXPERIAN SINGAPORE PTE. LTD.',\n",
       "       'HOOQ DIGITAL PTE. LTD.', 'OPTIMUM SOLUTIONS (SINGAPORE) PTE LTD',\n",
       "       'INFOCEPTS PTE. LTD.', 'INFOGAIN PTE. LTD.', 'UBS AG',\n",
       "       'J. ARON & COMPANY (SINGAPORE) PTE.', 'EYEOTA PTE. LTD.',\n",
       "       'MSD INTERNATIONAL GMBH (SINGAPORE BRANCH)', 'SIEMENS PTE. LTD.',\n",
       "       'CANOPY PTE. LTD.', 'APAR TECHNOLOGIES PTE. LTD.',\n",
       "       'AMAZON WEB SERVICES SINGAPORE PRIVATE LIMITED', 'M1 LIMITED',\n",
       "       'INTEGRAL SOLUTIONS (ASIA) PTE LTD', 'LIBERTY WIRELESS PTE. LTD.',\n",
       "       'ORBIUM PTE. LTD.', 'INTELLECT MINDS PTE. LTD.',\n",
       "       'THALES SOLUTIONS ASIA PTE. LTD.',\n",
       "       'SINGAPORE HEALTH SERVICES PTE LTD', 'CITIBANK SINGAPORE LIMITED',\n",
       "       'IBM GLOBAL SERVICES PTE. LTD.', 'EXIGER SINGAPORE PTE. LTD.',\n",
       "       'IBM SINGAPORE PTE LTD', 'DATASPARK PTE. LTD.',\n",
       "       'DAIMLER SOUTH EAST ASIA PTE. LTD.',\n",
       "       'SINGAPORE UNIVERSITY OF SOCIAL SCIENCES', 'AXIOMSL PTE. LTD.',\n",
       "       'EPAM SYSTEMS PTE. LTD.', 'DHL EXPRESS (SINGAPORE) PTE. LTD.',\n",
       "       'LAZADA SOUTH EAST ASIA PTE. LTD.', 'RESMED ASIA PTE. LTD.',\n",
       "       'NTT DATA SINGAPORE PTE. LTD.', 'COMTEL SOLUTIONS PTE LTD',\n",
       "       'SMOVE SYSTEMS PTE. LTD.',\n",
       "       'THE NIELSEN COMPANY (SINGAPORE) PTE. LTD.',\n",
       "       'RAKUTEN ASIA PTE. LTD.', 'PRIMESTAFF MANAGEMENT SERVICES PTE LTD',\n",
       "       'GROUPM SINGAPORE PTE. LTD.', 'D2X EXPERTISE PTE. LTD.',\n",
       "       'WEB PROFESSIONAL HOUSE PTE LTD', 'PROTOSOFT SOLUTIONS PTE. LTD.',\n",
       "       'AVENSYS CONSULTING PTE. LTD.',\n",
       "       'ALLEGIS GLOBAL SOLUTIONS (SINGAPORE) PTE. LTD.',\n",
       "       'YTL POWERSERAYA PTE. LIMITED', 'XYPHER PTE. LTD.',\n",
       "       'SCHNEIDER ELECTRIC IT LOGISTICS ASIA PACIFIC PTE. LTD.',\n",
       "       'STONE FOREST ACCOUNTSERVE PTE LTD', 'GECO ASIA PTE. LTD.',\n",
       "       'SYSNET SYSTEM AND SOLUTIONS PTE. LTD.',\n",
       "       'TECHCOM SOLUTIONS ASIA PACIFIC PTE. LTD.',\n",
       "       'SCHELLDEN GLOBAL SERVICES', 'HELIUS TECHNOLOGIES PTE. LTD.',\n",
       "       'WORKATO PTE. LTD.', 'KERRY CONSULTING PTE. LTD.',\n",
       "       'ACCENTURE SG SERVICES PTE. LTD.', 'ENCORA TECHNOLOGIES PTE. LTD.',\n",
       "       'INDUSTRY PLATFORM PTE. LTD.', 'AIRBNB SINGAPORE PRIVATE LIMITED',\n",
       "       'ASTEK SINGAPORE INNOVATION TECHNOLOGY PTE. LTD.',\n",
       "       'ADECCO PERSONNEL PTE LTD',\n",
       "       'ALPHATECH BUSINESS SOLUTIONS PTE. LTD.',\n",
       "       'LOVEBONITO SINGAPORE PTE. LTD.', 'ITCAN PTE. LIMITED',\n",
       "       'ABEAM CONSULTING (SINGAPORE) PTE. LTD.', 'NCS PTE. LTD.',\n",
       "       'SINGAPORE TELECOMMUNICATIONS LIMITED',\n",
       "       'BANK OF SINGAPORE LIMITED', 'NITYO INFOTECH SERVICES PTE. LTD.',\n",
       "       'OUELH MEDICAL ASSETS PTE. LTD.',\n",
       "       'DEUTSCHE BANK AKTIENGESELLSCHAFT',\n",
       "       'GOLDMAN SACHS (SINGAPORE) PTE.',\n",
       "       'TECHCOM SOLUTIONS & CONSULTANCY PTE. LTD.',\n",
       "       'GMP RECRUITMENT SERVICES (S) PTE LTD',\n",
       "       'JEBSEN & JESSEN (SOUTH EAST ASIA) PTE LTD',\n",
       "       'RANDSTAD PTE. LIMITED',\n",
       "       'LVMH FRAGRANCES AND COSMETICS (SINGAPORE) PTE LTD',\n",
       "       'CREDIT SUISSE SERVICES AG', 'EQUINIX ASIA PACIFIC PTE. LTD.',\n",
       "       'SHAROBI TECHNOLOGIES (PRIVATE) LIMITED',\n",
       "       'SOFTENGER (SINGAPORE) PTE. LTD.',\n",
       "       'IKAS INTERNATIONAL (ASIA) PTE. LTD.', 'VISEO ASIA PTE. LTD.',\n",
       "       'HELIX LEISURE PTE. LTD.', 'KRIS INFOTECH PTE. LTD.',\n",
       "       'CRYOVIVA SINGAPORE PTE. LTD.', 'JOBSTUDIO PTE. LTD.',\n",
       "       'UNIMAS CONSULTING SOLUTIONS PTE. LTD.', 'COSMICBC PTE. LTD.',\n",
       "       'ACTIVANTS PTE LTD', 'ONEPIP PTE. LTD.',\n",
       "       'TRIANZ CONSULTING & TECHNOLOGIES PTE. LIMITED',\n",
       "       'KELLY SERVICES (SINGAPORE) PTE. LTD.',\n",
       "       'GP NETWORK ASIA PTE. LTD.', 'HAPAG-LLOYD PTE. LTD.',\n",
       "       'AMOREPACIFIC SINGAPORE PTE. LTD.', 'OAKTREE CONSULTING',\n",
       "       'TATA CONSULTANCY SERVICES ASIA PACIFIC PTE. LTD.',\n",
       "       'INFOSYS LIMITED SINGAPORE BRANCH', 'CAPITA PTE. LTD.',\n",
       "       'BLUE STAR INFOSTACK SOLUTIONS PTE. LTD.', 'INSEAD',\n",
       "       'ACE & PERRY PTE. LTD.', 'THOUGHTWORKS PTE. LTD.',\n",
       "       'SCIENTE INTERNATIONAL PTE. LTD.',\n",
       "       'SHIMANO (SINGAPORE) PRIVATE LIMITED',\n",
       "       'ADROIT HR PROFESSIONAL PTE. LTD.', 'ZENITH INFOTECH (S) PTE LTD.',\n",
       "       'THE BANK OF NEW YORK MELLON', 'ACTIVATE INTERACTIVE PTE LTD',\n",
       "       'ACCION LABS PTE. LTD.', 'ALLEGIS GROUP SINGAPORE PRIVATE LIMITED',\n",
       "       'CHINA JINGYE ENGINEERING CORPORATION LIMITED (SINGAPORE BRANCH)',\n",
       "       'DIGITAL BIZ SOLUTIONS PTE. LTD.', 'KEYTEO CONSULTING PTE. LTD.',\n",
       "       'TELEDIRECT PTE LTD', 'TOTAL OIL ASIA-PACIFIC PTE. LTD.',\n",
       "       'OLDENDORFF CARRIERS (SINGAPORE) PTE. LTD.', 'STARHUB LTD.',\n",
       "       'SPENCER STUART & ASSOCIATES (SINGAPORE) PTE LTD',\n",
       "       'DAVID & GOLIATH PTE. LTD.', 'JTRON (SAP) PTE. LTD.',\n",
       "       'AVEPOINT SINGAPORE PTE. LTD.', 'SAGL CONSULTING PTE. LTD.',\n",
       "       'ZENDESK SINGAPORE PTE. LTD.',\n",
       "       'MAYBANK KIM ENG SECURITIES PTE. LTD.', 'SAGL CONSULTING',\n",
       "       'DATASTAT PTE. LTD.', 'MAVERICKS CONSULTING PTE. LTD.',\n",
       "       'I-ACCESS SOLUTIONS PTE. LTD.',\n",
       "       'ROBERT HALF INTERNATIONAL PTE. LTD.',\n",
       "       'NUCLEUS SOFTWARE SOLUTIONS PTE LTD',\n",
       "       'INGREDION SINGAPORE PTE. LTD.', 'OMRON ASIA PACIFIC PTE LTD',\n",
       "       'MPHASIS PTE LTD', 'CISCO SYSTEMS (USA) PTE. LTD.',\n",
       "       'A-IT SOFTWARE SERVICES PTE LTD',\n",
       "       'RESORTS WORLD AT SENTOSA PTE. LTD.',\n",
       "       'RESOURCE SOLUTIONS CONSULTING SINGAPORE PTE. LTD.',\n",
       "       'FRONTIER FORCE TECHNOLOGY PTE LTD',\n",
       "       'CERTIS CISCO AVIATION SECURITY PTE. LTD.',\n",
       "       'NIKE GLOBAL TRADING B.V. SINGAPORE BRANCH', 'TOSS-EX PTE. LTD.',\n",
       "       'THE HONGKONG AND SHANGHAI BANKING CORPORATION LIMITED',\n",
       "       'DELAWARE CONSULTING ASIA PACIFIC PTE. LTD.',\n",
       "       'DA FINANCIAL SERVICE (S) PTE. LTD.', 'TEJASCO TECHSOFT PTE. LTD.',\n",
       "       'FINSURGE PTE. LTD.', 'GATEWAY SEARCH PTE. LTD.',\n",
       "       'IBEXI SOLUTIONS PTE. LIMITED',\n",
       "       'TELENOR PROCUREMENT COMPANY PTE. LTD.',\n",
       "       'CHANDLER MACLEOD GROUP PTE. LTD.', 'SOPRA STERIA ASIA PTE. LTD.',\n",
       "       'MINDTECK SINGAPORE PTE LTD',\n",
       "       'THE GREAT EASTERN LIFE ASSURANCE COMPANY LIMITED',\n",
       "       'FPT SOFTWARE SOLUTIONS ASIA PACIFIC PTE. LTD.',\n",
       "       'U3 INFOTECH PTE. LTD.', 'AEON SEARCH CONSULTING PTE. LTD.',\n",
       "       'ON DEMAND AGILITY SOLUTIONS PTE. LTD.',\n",
       "       'SUMITOMO MITSUI BANKING CORPORATION SINGAPORE BRANCH',\n",
       "       'TANGSPAC CONSULTING PTE LTD',\n",
       "       'FLEXTRONICS MANUFACTURING (SINGAPORE) PTE. LTD.', 'ADDSTONES SAS',\n",
       "       'HEARTI LAB PTE. LTD.', 'INTEGRO TECHNOLOGIES PTE LTD',\n",
       "       'TRINITY CONSULTING SERVICES PTE. LTD.',\n",
       "       \"WATSON'S PERSONAL CARE STORES PTE LTD\",\n",
       "       'CAPGEMINI SINGAPORE PTE. LTD.', 'WIRECARD SINGAPORE PTE. LTD.',\n",
       "       'ECNET LIMITED', 'HYDROBALL TECHNICS (SEA) PTE. LTD.',\n",
       "       'GENIE GENIUS PTE. LTD.', 'NCR SINGAPORE PTE LTD',\n",
       "       'STMICROELECTRONICS ASIA PACIFIC PTE LTD',\n",
       "       'IMATRIZ SOLUTIONS PTE. LTD.', 'SINGAPORE POST LIMITED',\n",
       "       'METEORITE INFORMATICS PTE. LTD.',\n",
       "       'HYDROGEN CONSULTING SOLUTIONS PTE. LTD.', 'ANTAES ASIA PTE. LTD.',\n",
       "       'EPS COMPUTER SYSTEMS PTE LTD', 'NEURONCREDIT PTE. LTD.',\n",
       "       'INTERTEK TESTING SERVICES (SINGAPORE) PTE LTD',\n",
       "       'HOMEAWAY EMERGING MARKETS PTE. LTD.',\n",
       "       'AMAZON ASIA-PACIFIC RESOURCES PRIVATE LIMITED',\n",
       "       'SUNRISE & CO (PTE) LTD', 'SYNNOVE SYSTEMS PTE. LTD.',\n",
       "       'MONEYSMART SINGAPORE PTE. LTD.', 'GLOBALDATA PTE. LTD.',\n",
       "       'ROCHE DIAGNOSTICS ASIA PACIFIC PTE LTD',\n",
       "       'COLLIERS INTERNATIONAL (SINGAPORE) PTE LTD',\n",
       "       'SPOTIFY SINGAPORE PTE. LTD.',\n",
       "       'JONES LANG LASALLE PROPERTY CONSULTANTS PTE LTD',\n",
       "       'FOODPANDA SINGAPORE PTE. LTD.', 'COMPO 2000 PTE LTD',\n",
       "       'DYSON OPERATIONS PTE. LTD.',\n",
       "       'GROUPM ASIA PACIFIC HOLDINGS PTE. LTD.',\n",
       "       'CARGILL ASIA PACIFIC HOLDINGS PTE. LTD.',\n",
       "       'KROLL ASSOCIATES (S) PTE LTD', 'HCL SINGAPORE PTE. LTD.',\n",
       "       'NINJA LOGISTICS PTE. LTD.', 'HEINEKEN ASIA PACIFIC PTE. LTD.',\n",
       "       'CARL ZEISS PTE. LTD.', 'ASPIRE GLOBAL NETWORK PTE. LTD.',\n",
       "       'STARWOOD ASIA PACIFIC HOTELS & RESORTS PTE. LTD.',\n",
       "       'MIDEA ELECTRIC TRADING (SINGAPORE) CO. PTE. LTD.',\n",
       "       'ASTELLAS PHARMA SINGAPORE PTE. LTD.',\n",
       "       'SABRE ASIA PACIFIC PTE. LTD.', 'CPM CONSULTING PTE. LTD.',\n",
       "       'DXC TECHNOLOGY SINGAPORE PTE. LTD.',\n",
       "       'NEXUS INTERNATIONAL SCHOOL (SINGAPORE) PTE. LTD.',\n",
       "       'CIMB BANK BERHAD', 'R SYSTEMS (SINGAPORE) PTE LIMITED',\n",
       "       'ELIXIR TECHNOLOGY PTE LTD', 'TERADATA (SINGAPORE) PTE. LTD.',\n",
       "       'CLEARSTATE (PTE.) LTD.', 'RED FIRE LLP',\n",
       "       'NTT DATA BUSINESS SOLUTIONS SINGAPORE PTE. LTD.',\n",
       "       'SINGAPORE PRESS HOLDINGS LIMITED',\n",
       "       'BLOOMBERG SINGAPORE PTE. LTD.',\n",
       "       'ROBERT WALTERS (SINGAPORE) PTE LTD',\n",
       "       'OBSERVATIONAL AND PRAGMATIC RESEARCH INSTITUTE PTE. LTD.',\n",
       "       'TELEPATHY LABS PTE. LTD.', 'DELFERS BUSINESS SOLUTIONS PTE. LTD.',\n",
       "       'AYP STAFFING PTE. LTD.', 'ALEPH PTE. LTD.',\n",
       "       'IRISNATION SINGAPORE PTE. LTD.', 'WEGO PTE. LTD.',\n",
       "       'SMARTKARMA INNOVATIONS PTE. LTD.',\n",
       "       'SHIPSFOCUS INTELLIGENCE PTE. LTD.',\n",
       "       'MACHSPEED HUMAN RESOURCES PTE. LTD.',\n",
       "       'HAL COMPLETIONS MFG PTE. LTD.', 'TALENT SPOT GROUP PRIVATE LTD.',\n",
       "       'HAYS SPECIALIST RECRUITMENT PTE. LTD.',\n",
       "       'LINXENS SINGAPORE PTE. LTD.', 'TRIBAL WORLDWIDE PTE. LTD.',\n",
       "       'LYJ INTERNATIONAL PTE. LTD.',\n",
       "       'INFINITE COMPUTER SOLUTIONS PTE LTD',\n",
       "       'ECQUARIA TECHNOLOGIES PTE LTD', 'PROPERTYGURU PTE. LTD.',\n",
       "       'NIBAARA TECHNOLOGIES PTE. LTD.', 'UPS ASIA GROUP PTE. LTD.',\n",
       "       'PERX TECHNOLOGIES PTE. LTD.', 'MATCHMOVE PAY PTE. LTD.',\n",
       "       'EIRE SYSTEMS SINGAPORE PTE. LTD.',\n",
       "       'LAZADA SERVICES SOUTH EAST ASIA PTE. LTD.',\n",
       "       'SENSORFLOW PTE. LTD.', 'GUMI ASIA PTE. LTD.',\n",
       "       'THE SUPREME HR ADVISORY PTE. LTD.',\n",
       "       'INFINEON TECHNOLOGIES ASIA PACIFIC PTE LTD',\n",
       "       'PM ASIA PROJECT SERVICES PTE. LTD.', 'NIOMETRICS (PTE.) LTD.',\n",
       "       'KPLER PTE. LTD.', 'ENGIE ITS  PTE. LTD.', 'SILOT PTE. LTD.',\n",
       "       'TITANSOFT PTE. LTD.', 'WOODPECKER ASIA TECH PTE. LTD.',\n",
       "       'SINGAPORE AIRLINES LIMITED',\n",
       "       'ZUZU HOSPITALITY SOLUTIONS PTE. LTD.',\n",
       "       'ORICA INTERNATIONAL PTE. LTD.', 'SINGAPORE MANAGEMENT UNIVERSITY',\n",
       "       'RGF TALENT SOLUTIONS SINGAPORE PTE. LTD.',\n",
       "       'RIO TINTO SINGAPORE HOLDINGS PTE. LTD.',\n",
       "       'FEHMARN CONSULTING PTE. LTD.', 'XILINX ASIA PACIFIC PTE. LTD.',\n",
       "       'FUNDNEL PTE. LTD.', 'KKT TECHNOLOGY PTE. LTD.',\n",
       "       'APTIV8 PTE. LTD.', 'REDMART LIMITED',\n",
       "       'ERNST & YOUNG ADVISORY PTE. LTD.', 'NUTONOMY ASIA PTE. LTD.',\n",
       "       'Republic Polytechnic', 'QANVAST PTE. LTD.',\n",
       "       'SHOPEE SINGAPORE PRIVATE LIMITED', 'MICROSEC PTE. LTD.',\n",
       "       'CAREER TREND PTE. LTD.', 'DIMENSION DATA ASIA PACIFIC PTE. LTD.',\n",
       "       'YARA ASIA PTE. LTD.', 'ESSILOR AMERA PTE. LTD.',\n",
       "       'AXINAN PTE. LTD.', 'PAYPAL PTE. LTD.',\n",
       "       'DOW TECHNOLOGIES AND SYSTEMS PTE. LTD.',\n",
       "       'CC-DG SOLUTIONS PTE. LTD.',\n",
       "       'EQUATORIAL MARINE FUEL MANAGEMENT SERVICES PTE. LTD.',\n",
       "       'SPARKBEYOND PTE. LTD.', 'PEOPLE ADVANTAGE PTE. LTD.',\n",
       "       'AMARIS.AI PTE. LTD.', 'COGNOPIA PTE. LTD.',\n",
       "       'COVALENT CAPITAL PTE. LTD.', 'REALID (SG) PTE. LTD.',\n",
       "       'MANGOSTEEN BCC PTE. LTD.', 'SEPHORA DIGITAL SEA PTE. LTD.',\n",
       "       'PURE STORAGE SINGAPORE PTE. LIMITED', 'HANALYTICS PTE. LTD.',\n",
       "       '101 DIGITAL PTE. LTD.', 'PRIMUSTECH PTE. LTD.',\n",
       "       'ACRONIS ASIA RESEARCH AND DEVELOPMENT PTE. LTD.',\n",
       "       'JOHNSON & JOHNSON PTE. LTD.', 'ANYCONNECT PRIVATE LIMITED',\n",
       "       'AXA TECHNOLOGY SERVICES ASIA PTE. LTD.', 'ITCONNECTUS PTE. LTD.',\n",
       "       'Housing and Development Board', 'ISMART SYNERGY PTE. LTD.',\n",
       "       'LEADIQ SINGAPORE PTE. LTD.', 'MICROSOFT OPERATIONS PTE LTD',\n",
       "       'KLARE SERVICES SINGAPORE PTE. LTD.',\n",
       "       'SINGAPORE NATIONAL EYE CENTRE PTE LTD',\n",
       "       'NIKKO ASSET MANAGEMENT ASIA LIMITED', 'STANDARD CHARTERED BANK',\n",
       "       'GLOBAL SEARCH PARTNERS PTE. LTD.', 'MOOVITA PTE. LTD.',\n",
       "       'SINGAPORE EYE RESEARCH INSTITUTE', 'FIREVISOR SYSTEMS PTE. LTD.',\n",
       "       'MEDIATEK SINGAPORE PTE. LTD.', 'SINGAPORE POWER LIMITED',\n",
       "       'ASCENDAS LAND (SINGAPORE) PTE LTD', 'GOLDTECH RESOURCES PTE LTD',\n",
       "       'AMAZON ASIA-PACIFIC HOLDINGS PRIVATE LIMITED', 'YOJEE PTE. LTD.',\n",
       "       'WORLDWIDE DISTRIBUTION SYSTEMS USA PTE. LTD.', 'SEQUAX PTE. LTD.',\n",
       "       'ELEMENT AI INC. PTE. LTD.',\n",
       "       'SINGAPORE-MIT ALLIANCE FOR RESEARCH AND TECHNOLOGY CENTRE',\n",
       "       'AIQ PTE. LTD.', 'HITACHI VANTARA PTE. LIMITED',\n",
       "       'WILMAR INTERNATIONAL LIMITED', 'APL CO. PTE LTD',\n",
       "       'FACEBOOK SINGAPORE PTE. LTD.', 'YOLO TECHNOLOGY PTE. LTD.',\n",
       "       'TEMASEK LIFE SCIENCES LABORATORY LIMITED'], dtype=object)"
      ]
     },
     "execution_count": 1385,
     "metadata": {},
     "output_type": "execute_result"
    }
   ],
   "source": [
    "df['job_company'].unique()"
   ]
  },
  {
   "cell_type": "code",
   "execution_count": 1386,
   "metadata": {},
   "outputs": [],
   "source": [
    "# nothing much to clean"
   ]
  },
  {
   "cell_type": "markdown",
   "metadata": {},
   "source": [
    "<a id='clean_data_job_location'/>\n",
    "#### Let's clean job_location"
   ]
  },
  {
   "cell_type": "code",
   "execution_count": 1387,
   "metadata": {},
   "outputs": [
    {
     "data": {
      "text/plain": [
       "array(['East, Central', 'East', 'South', 'West', 'Central', 'Islandwide',\n",
       "       nan, 'North', 'North, Central', 'North, East, Central',\n",
       "       'South, East, West, Central', 'South, West', 'South, Central',\n",
       "       'South, East, Central'], dtype=object)"
      ]
     },
     "execution_count": 1387,
     "metadata": {},
     "output_type": "execute_result"
    }
   ],
   "source": [
    "df['job_location'].unique()"
   ]
  },
  {
   "cell_type": "code",
   "execution_count": 1388,
   "metadata": {},
   "outputs": [],
   "source": [
    "# drop the strategic account executive role as on closer reading the location is in \n",
    "df.drop(204,axis=0,inplace=True)"
   ]
  },
  {
   "cell_type": "code",
   "execution_count": 1389,
   "metadata": {},
   "outputs": [
    {
     "data": {
      "text/html": [
       "<div>\n",
       "<style scoped>\n",
       "    .dataframe tbody tr th:only-of-type {\n",
       "        vertical-align: middle;\n",
       "    }\n",
       "\n",
       "    .dataframe tbody tr th {\n",
       "        vertical-align: top;\n",
       "    }\n",
       "\n",
       "    .dataframe thead th {\n",
       "        text-align: right;\n",
       "    }\n",
       "</style>\n",
       "<table border=\"1\" class=\"dataframe\">\n",
       "  <thead>\n",
       "    <tr style=\"text-align: right;\">\n",
       "      <th></th>\n",
       "      <th>job_title</th>\n",
       "      <th>job_company</th>\n",
       "      <th>job_location</th>\n",
       "      <th>job_seniority</th>\n",
       "      <th>job_industry</th>\n",
       "      <th>job_employment_type</th>\n",
       "      <th>job_salary_range_from</th>\n",
       "      <th>job_salary_range_to</th>\n",
       "      <th>job_salary_type</th>\n",
       "      <th>job_details_url</th>\n",
       "      <th>job_description</th>\n",
       "      <th>job_requirements</th>\n",
       "    </tr>\n",
       "  </thead>\n",
       "  <tbody>\n",
       "    <tr>\n",
       "      <th>2</th>\n",
       "      <td>Technical Account Manager Google Cloud Profess...</td>\n",
       "      <td>GOOGLE ASIA PACIFIC PTE. LTD.</td>\n",
       "      <td>South</td>\n",
       "      <td>Executive</td>\n",
       "      <td>Engineering</td>\n",
       "      <td>Full Time</td>\n",
       "      <td>$7,750</td>\n",
       "      <td>$15,500</td>\n",
       "      <td>Monthly</td>\n",
       "      <td>https://www.mycareersfuture.sg/job/technical-a...</td>\n",
       "      <td>&lt;p&gt;&lt;strong&gt;Company overview:&lt;/strong&gt;&lt;/p&gt;&lt;p&gt;Go...</td>\n",
       "      <td>&lt;p&gt;&lt;strong&gt;Minimum qualifications:&lt;/strong&gt;&lt;/p...</td>\n",
       "    </tr>\n",
       "    <tr>\n",
       "      <th>507</th>\n",
       "      <td>Enterprise Applications Lead BA PM  Internal O...</td>\n",
       "      <td>DAVID &amp; GOLIATH PTE. LTD.</td>\n",
       "      <td>Central</td>\n",
       "      <td>Middle Management</td>\n",
       "      <td>Information Technology</td>\n",
       "      <td>Permanent ...</td>\n",
       "      <td>$6,250</td>\n",
       "      <td>$12,500</td>\n",
       "      <td>Monthly</td>\n",
       "      <td>https://www.mycareersfuture.sg/job/enterprise-...</td>\n",
       "      <td>&lt;p&gt;Enterprise Applications Lead (BA, PM - Inte...</td>\n",
       "      <td>&lt;p&gt;&lt;strong&gt;&lt;em&gt;In return for this excellent ca...</td>\n",
       "    </tr>\n",
       "  </tbody>\n",
       "</table>\n",
       "</div>"
      ],
      "text/plain": [
       "                                             job_title  \\\n",
       "2    Technical Account Manager Google Cloud Profess...   \n",
       "507  Enterprise Applications Lead BA PM  Internal O...   \n",
       "\n",
       "                       job_company job_location      job_seniority  \\\n",
       "2    GOOGLE ASIA PACIFIC PTE. LTD.        South          Executive   \n",
       "507      DAVID & GOLIATH PTE. LTD.      Central  Middle Management   \n",
       "\n",
       "               job_industry job_employment_type job_salary_range_from  \\\n",
       "2               Engineering           Full Time                $7,750   \n",
       "507  Information Technology       Permanent ...                $6,250   \n",
       "\n",
       "    job_salary_range_to job_salary_type  \\\n",
       "2               $15,500         Monthly   \n",
       "507             $12,500         Monthly   \n",
       "\n",
       "                                       job_details_url  \\\n",
       "2    https://www.mycareersfuture.sg/job/technical-a...   \n",
       "507  https://www.mycareersfuture.sg/job/enterprise-...   \n",
       "\n",
       "                                       job_description  \\\n",
       "2    <p><strong>Company overview:</strong></p><p>Go...   \n",
       "507  <p>Enterprise Applications Lead (BA, PM - Inte...   \n",
       "\n",
       "                                      job_requirements  \n",
       "2    <p><strong>Minimum qualifications:</strong></p...  \n",
       "507  <p><strong><em>In return for this excellent ca...  "
      ]
     },
     "execution_count": 1389,
     "metadata": {},
     "output_type": "execute_result"
    }
   ],
   "source": [
    "# Check for any more job titles that include 'account' - could be pure sales roles\n",
    "df[df['job_title'].str.lower().str.contains('account')]\n",
    "# below looks alright - primarily technical responsibilities, let's retain the jobs"
   ]
  },
  {
   "cell_type": "code",
   "execution_count": 1390,
   "metadata": {},
   "outputs": [],
   "source": [
    "# Null Job Locations \n",
    "# Fill in the missing job_location after manually checking the job address using the url\n",
    "df.loc[[54,1159,1605],'job_location'] = 'North'\n",
    "df.loc[[1399,1436],'job_location'] = 'North, Central'\n",
    "df.loc[[67,68,842,930,959,1350],['job_location']] = 'Central'"
   ]
  },
  {
   "cell_type": "code",
   "execution_count": 1391,
   "metadata": {
    "scrolled": true
   },
   "outputs": [
    {
     "data": {
      "text/html": [
       "<div>\n",
       "<style scoped>\n",
       "    .dataframe tbody tr th:only-of-type {\n",
       "        vertical-align: middle;\n",
       "    }\n",
       "\n",
       "    .dataframe tbody tr th {\n",
       "        vertical-align: top;\n",
       "    }\n",
       "\n",
       "    .dataframe thead th {\n",
       "        text-align: right;\n",
       "    }\n",
       "</style>\n",
       "<table border=\"1\" class=\"dataframe\">\n",
       "  <thead>\n",
       "    <tr style=\"text-align: right;\">\n",
       "      <th></th>\n",
       "      <th>job_title</th>\n",
       "      <th>job_company</th>\n",
       "      <th>job_location</th>\n",
       "      <th>job_seniority</th>\n",
       "      <th>job_industry</th>\n",
       "      <th>job_employment_type</th>\n",
       "      <th>job_salary_range_from</th>\n",
       "      <th>job_salary_range_to</th>\n",
       "      <th>job_salary_type</th>\n",
       "      <th>job_details_url</th>\n",
       "      <th>job_description</th>\n",
       "      <th>job_requirements</th>\n",
       "    </tr>\n",
       "  </thead>\n",
       "  <tbody>\n",
       "    <tr>\n",
       "      <th>54</th>\n",
       "      <td>Lecturer  IT Applications Development</td>\n",
       "      <td>Institute of Technical Education</td>\n",
       "      <td>North</td>\n",
       "      <td>Executive</td>\n",
       "      <td>Education and Training ...</td>\n",
       "      <td>Contract</td>\n",
       "      <td>$3,000</td>\n",
       "      <td>$6,000</td>\n",
       "      <td>Monthly</td>\n",
       "      <td>https://www.mycareersfuture.sg/job/lecturer-ap...</td>\n",
       "      <td>&lt;p&gt;&lt;strong&gt;Responsibilities&lt;/strong&gt;&lt;br&gt; &lt;br&gt;A...</td>\n",
       "      <td>NaN</td>\n",
       "    </tr>\n",
       "    <tr>\n",
       "      <th>67</th>\n",
       "      <td>Assistant Manager GeoAnalytics</td>\n",
       "      <td>Singapore Land Authority</td>\n",
       "      <td>Central</td>\n",
       "      <td>Middle Management</td>\n",
       "      <td>Information Technology ...</td>\n",
       "      <td>Full Time</td>\n",
       "      <td>$3,500</td>\n",
       "      <td>$6,800</td>\n",
       "      <td>Monthly</td>\n",
       "      <td>https://www.mycareersfuture.sg/job/assistant-m...</td>\n",
       "      <td>&lt;p&gt;&lt;strong&gt;Assistant Manager, GeoAnalytics&lt;/st...</td>\n",
       "      <td>NaN</td>\n",
       "    </tr>\n",
       "    <tr>\n",
       "      <th>68</th>\n",
       "      <td>Assistant Manager   Technical Manager GeoSpati...</td>\n",
       "      <td>Singapore Land Authority</td>\n",
       "      <td>Central</td>\n",
       "      <td>Middle Management</td>\n",
       "      <td>Information Technology ...</td>\n",
       "      <td>Full Time</td>\n",
       "      <td>$4,000</td>\n",
       "      <td>$6,800</td>\n",
       "      <td>Monthly</td>\n",
       "      <td>https://www.mycareersfuture.sg/job/assistant-m...</td>\n",
       "      <td>&lt;p&gt;&lt;strong&gt;Assistant Manager/ Technical Manage...</td>\n",
       "      <td>NaN</td>\n",
       "    </tr>\n",
       "    <tr>\n",
       "      <th>842</th>\n",
       "      <td>Data Analyst  Data Transformation IMO</td>\n",
       "      <td>ROBERT WALTERS (SINGAPORE) PTE LTD</td>\n",
       "      <td>Central</td>\n",
       "      <td>Executive</td>\n",
       "      <td>Information Technology</td>\n",
       "      <td>Temporary ...</td>\n",
       "      <td>$6,000</td>\n",
       "      <td>$7,400</td>\n",
       "      <td>Monthly</td>\n",
       "      <td>https://www.mycareersfuture.sg/job/data-analys...</td>\n",
       "      <td>NaN</td>\n",
       "      <td>NaN</td>\n",
       "    </tr>\n",
       "    <tr>\n",
       "      <th>930</th>\n",
       "      <td>Senior Executive Data Services</td>\n",
       "      <td>Singapore Land Authority</td>\n",
       "      <td>Central</td>\n",
       "      <td>Fresh/entry level</td>\n",
       "      <td>Information Technology ...</td>\n",
       "      <td>Contract</td>\n",
       "      <td>$2,800</td>\n",
       "      <td>$5,600</td>\n",
       "      <td>Monthly</td>\n",
       "      <td>https://www.mycareersfuture.sg/job/senior-exec...</td>\n",
       "      <td>&lt;p&gt;&lt;strong&gt;Senior Executive, Data Services&lt;/st...</td>\n",
       "      <td>NaN</td>\n",
       "    </tr>\n",
       "    <tr>\n",
       "      <th>959</th>\n",
       "      <td>Senior Executive Data Management</td>\n",
       "      <td>Singapore Land Authority</td>\n",
       "      <td>Central</td>\n",
       "      <td>Executive</td>\n",
       "      <td>Information Technology ...</td>\n",
       "      <td>Contract</td>\n",
       "      <td>$2,800</td>\n",
       "      <td>$5,600</td>\n",
       "      <td>Monthly</td>\n",
       "      <td>https://www.mycareersfuture.sg/job/senior-exec...</td>\n",
       "      <td>&lt;p&gt;&lt;strong&gt;Senior Executive, Data Management&lt;/...</td>\n",
       "      <td>NaN</td>\n",
       "    </tr>\n",
       "    <tr>\n",
       "      <th>1159</th>\n",
       "      <td>Office of Information Services  Manager    Dep...</td>\n",
       "      <td>Republic Polytechnic</td>\n",
       "      <td>North</td>\n",
       "      <td>NaN</td>\n",
       "      <td>Education and Training ...</td>\n",
       "      <td>Full Time</td>\n",
       "      <td>$4,200</td>\n",
       "      <td>$7,300</td>\n",
       "      <td>Monthly</td>\n",
       "      <td>https://www.mycareersfuture.sg/job/office-info...</td>\n",
       "      <td>&lt;p&gt;&lt;strong&gt;Job Responsibilities&lt;/strong&gt;&lt;br&gt;- ...</td>\n",
       "      <td>NaN</td>\n",
       "    </tr>\n",
       "    <tr>\n",
       "      <th>1350</th>\n",
       "      <td>Senior  Principal Researcher Underground Geosp...</td>\n",
       "      <td>Singapore Land Authority</td>\n",
       "      <td>Central</td>\n",
       "      <td>Executive</td>\n",
       "      <td>Information Technology ...</td>\n",
       "      <td>Full Time</td>\n",
       "      <td>$2,800</td>\n",
       "      <td>$5,600</td>\n",
       "      <td>Monthly</td>\n",
       "      <td>https://www.mycareersfuture.sg/job/senior-prin...</td>\n",
       "      <td>&lt;p&gt;&lt;strong&gt;Senior/Principal Researcher, Underg...</td>\n",
       "      <td>NaN</td>\n",
       "    </tr>\n",
       "    <tr>\n",
       "      <th>1399</th>\n",
       "      <td>Engineer Complex Systems Modelling</td>\n",
       "      <td>Housing and Development Board</td>\n",
       "      <td>North, Central</td>\n",
       "      <td>NaN</td>\n",
       "      <td>Public / Civil Service</td>\n",
       "      <td>Contract</td>\n",
       "      <td>$2,400</td>\n",
       "      <td>$8,555</td>\n",
       "      <td>Monthly</td>\n",
       "      <td>https://www.mycareersfuture.sg/job/engineer-ho...</td>\n",
       "      <td>&lt;p&gt; &lt;/p&gt;&lt;p&gt;&lt;strong&gt;Responsibilities&lt;/strong&gt;&lt;/...</td>\n",
       "      <td>NaN</td>\n",
       "    </tr>\n",
       "    <tr>\n",
       "      <th>1436</th>\n",
       "      <td>Engineer Analytics</td>\n",
       "      <td>Housing and Development Board</td>\n",
       "      <td>North, Central</td>\n",
       "      <td>NaN</td>\n",
       "      <td>Public / Civil Service</td>\n",
       "      <td>Contract</td>\n",
       "      <td>$2,400</td>\n",
       "      <td>$8,555</td>\n",
       "      <td>Monthly</td>\n",
       "      <td>https://www.mycareersfuture.sg/job/engineer-ho...</td>\n",
       "      <td>&lt;p&gt; &lt;/p&gt;&lt;p&gt;&lt;strong&gt;Responsibilities &lt;/strong&gt;&lt;...</td>\n",
       "      <td>NaN</td>\n",
       "    </tr>\n",
       "    <tr>\n",
       "      <th>1605</th>\n",
       "      <td>School of Infocomm  Research Staff Data Analyt...</td>\n",
       "      <td>Republic Polytechnic</td>\n",
       "      <td>North</td>\n",
       "      <td>NaN</td>\n",
       "      <td>Education and Training ...</td>\n",
       "      <td>Contract</td>\n",
       "      <td>$3,100</td>\n",
       "      <td>$5,300</td>\n",
       "      <td>Monthly</td>\n",
       "      <td>https://www.mycareersfuture.sg/job/school-info...</td>\n",
       "      <td>&lt;p&gt;&lt;strong&gt;Job Responsibilities&lt;/strong&gt;&lt;br&gt; W...</td>\n",
       "      <td>NaN</td>\n",
       "    </tr>\n",
       "  </tbody>\n",
       "</table>\n",
       "</div>"
      ],
      "text/plain": [
       "                                              job_title  \\\n",
       "54                Lecturer  IT Applications Development   \n",
       "67                       Assistant Manager GeoAnalytics   \n",
       "68    Assistant Manager   Technical Manager GeoSpati...   \n",
       "842               Data Analyst  Data Transformation IMO   \n",
       "930                      Senior Executive Data Services   \n",
       "959                    Senior Executive Data Management   \n",
       "1159  Office of Information Services  Manager    Dep...   \n",
       "1350  Senior  Principal Researcher Underground Geosp...   \n",
       "1399                 Engineer Complex Systems Modelling   \n",
       "1436                                 Engineer Analytics   \n",
       "1605  School of Infocomm  Research Staff Data Analyt...   \n",
       "\n",
       "                             job_company    job_location      job_seniority  \\\n",
       "54      Institute of Technical Education           North          Executive   \n",
       "67              Singapore Land Authority         Central  Middle Management   \n",
       "68              Singapore Land Authority         Central  Middle Management   \n",
       "842   ROBERT WALTERS (SINGAPORE) PTE LTD         Central          Executive   \n",
       "930             Singapore Land Authority         Central  Fresh/entry level   \n",
       "959             Singapore Land Authority         Central          Executive   \n",
       "1159                Republic Polytechnic           North                NaN   \n",
       "1350            Singapore Land Authority         Central          Executive   \n",
       "1399       Housing and Development Board  North, Central                NaN   \n",
       "1436       Housing and Development Board  North, Central                NaN   \n",
       "1605                Republic Polytechnic           North                NaN   \n",
       "\n",
       "                    job_industry job_employment_type job_salary_range_from  \\\n",
       "54    Education and Training ...            Contract                $3,000   \n",
       "67    Information Technology ...           Full Time                $3,500   \n",
       "68    Information Technology ...           Full Time                $4,000   \n",
       "842       Information Technology       Temporary ...                $6,000   \n",
       "930   Information Technology ...            Contract                $2,800   \n",
       "959   Information Technology ...            Contract                $2,800   \n",
       "1159  Education and Training ...           Full Time                $4,200   \n",
       "1350  Information Technology ...           Full Time                $2,800   \n",
       "1399      Public / Civil Service            Contract                $2,400   \n",
       "1436      Public / Civil Service            Contract                $2,400   \n",
       "1605  Education and Training ...            Contract                $3,100   \n",
       "\n",
       "     job_salary_range_to job_salary_type  \\\n",
       "54                $6,000         Monthly   \n",
       "67                $6,800         Monthly   \n",
       "68                $6,800         Monthly   \n",
       "842               $7,400         Monthly   \n",
       "930               $5,600         Monthly   \n",
       "959               $5,600         Monthly   \n",
       "1159              $7,300         Monthly   \n",
       "1350              $5,600         Monthly   \n",
       "1399              $8,555         Monthly   \n",
       "1436              $8,555         Monthly   \n",
       "1605              $5,300         Monthly   \n",
       "\n",
       "                                        job_details_url  \\\n",
       "54    https://www.mycareersfuture.sg/job/lecturer-ap...   \n",
       "67    https://www.mycareersfuture.sg/job/assistant-m...   \n",
       "68    https://www.mycareersfuture.sg/job/assistant-m...   \n",
       "842   https://www.mycareersfuture.sg/job/data-analys...   \n",
       "930   https://www.mycareersfuture.sg/job/senior-exec...   \n",
       "959   https://www.mycareersfuture.sg/job/senior-exec...   \n",
       "1159  https://www.mycareersfuture.sg/job/office-info...   \n",
       "1350  https://www.mycareersfuture.sg/job/senior-prin...   \n",
       "1399  https://www.mycareersfuture.sg/job/engineer-ho...   \n",
       "1436  https://www.mycareersfuture.sg/job/engineer-ho...   \n",
       "1605  https://www.mycareersfuture.sg/job/school-info...   \n",
       "\n",
       "                                        job_description job_requirements  \n",
       "54    <p><strong>Responsibilities</strong><br> <br>A...              NaN  \n",
       "67    <p><strong>Assistant Manager, GeoAnalytics</st...              NaN  \n",
       "68    <p><strong>Assistant Manager/ Technical Manage...              NaN  \n",
       "842                                                 NaN              NaN  \n",
       "930   <p><strong>Senior Executive, Data Services</st...              NaN  \n",
       "959   <p><strong>Senior Executive, Data Management</...              NaN  \n",
       "1159  <p><strong>Job Responsibilities</strong><br>- ...              NaN  \n",
       "1350  <p><strong>Senior/Principal Researcher, Underg...              NaN  \n",
       "1399  <p> </p><p><strong>Responsibilities</strong></...              NaN  \n",
       "1436  <p> </p><p><strong>Responsibilities </strong><...              NaN  \n",
       "1605  <p><strong>Job Responsibilities</strong><br> W...              NaN  "
      ]
     },
     "execution_count": 1391,
     "metadata": {},
     "output_type": "execute_result"
    }
   ],
   "source": [
    "# investigate those where values are null\n",
    "df[df.isnull().any(axis=1)]"
   ]
  },
  {
   "cell_type": "markdown",
   "metadata": {},
   "source": [
    "<a id='clean_data_job_seniority'/>\n",
    "#### Let's clean job_seniority"
   ]
  },
  {
   "cell_type": "code",
   "execution_count": 1392,
   "metadata": {},
   "outputs": [
    {
     "data": {
      "text/plain": [
       "Professional             280\n",
       "Executive                183\n",
       "Senior Executive         122\n",
       "Manager                   84\n",
       "Middle Management         50\n",
       "Non-executive             45\n",
       "Junior Executive          32\n",
       "Professional ...          31\n",
       "Senior Management         28\n",
       "Executive ...             25\n",
       "Manager ...               22\n",
       "Fresh/entry level         20\n",
       "Senior Management ...     13\n",
       "Middle Management ...     13\n",
       "Fresh/entry level ...      9\n",
       "Junior Executive ...       1\n",
       "Non-executive ...          1\n",
       "Name: job_seniority, dtype: int64"
      ]
     },
     "execution_count": 1392,
     "metadata": {},
     "output_type": "execute_result"
    }
   ],
   "source": [
    "df['job_seniority'].value_counts()"
   ]
  },
  {
   "cell_type": "code",
   "execution_count": 1393,
   "metadata": {},
   "outputs": [
    {
     "data": {
      "text/plain": [
       "Professional         311\n",
       "Executive            208\n",
       "Senior Executive     122\n",
       "Manager              106\n",
       "Middle Management     63\n",
       "Nonexecutive          46\n",
       "Senior Management     41\n",
       "Junior Executive      33\n",
       "Freshentry level      29\n",
       "Name: job_seniority, dtype: int64"
      ]
     },
     "execution_count": 1393,
     "metadata": {},
     "output_type": "execute_result"
    }
   ],
   "source": [
    "remove_punctuation_table = str.maketrans('','',string.punctuation)\n",
    "\n",
    "# remove punctuation and strip ' '\n",
    "df['job_seniority'] = df['job_seniority'].str.translate(remove_punctuation_table).str.strip(' ')\n",
    "df['job_seniority'].value_counts()"
   ]
  },
  {
   "cell_type": "code",
   "execution_count": 1394,
   "metadata": {},
   "outputs": [
    {
     "data": {
      "text/html": [
       "<div>\n",
       "<style scoped>\n",
       "    .dataframe tbody tr th:only-of-type {\n",
       "        vertical-align: middle;\n",
       "    }\n",
       "\n",
       "    .dataframe tbody tr th {\n",
       "        vertical-align: top;\n",
       "    }\n",
       "\n",
       "    .dataframe thead th {\n",
       "        text-align: right;\n",
       "    }\n",
       "</style>\n",
       "<table border=\"1\" class=\"dataframe\">\n",
       "  <thead>\n",
       "    <tr style=\"text-align: right;\">\n",
       "      <th></th>\n",
       "      <th>job_title</th>\n",
       "      <th>job_company</th>\n",
       "      <th>job_location</th>\n",
       "      <th>job_seniority</th>\n",
       "      <th>job_industry</th>\n",
       "      <th>job_employment_type</th>\n",
       "      <th>job_salary_range_from</th>\n",
       "      <th>job_salary_range_to</th>\n",
       "      <th>job_salary_type</th>\n",
       "      <th>job_details_url</th>\n",
       "      <th>job_description</th>\n",
       "      <th>job_requirements</th>\n",
       "    </tr>\n",
       "  </thead>\n",
       "  <tbody>\n",
       "    <tr>\n",
       "      <th>1159</th>\n",
       "      <td>Office of Information Services  Manager    Dep...</td>\n",
       "      <td>Republic Polytechnic</td>\n",
       "      <td>North</td>\n",
       "      <td>NaN</td>\n",
       "      <td>Education and Training ...</td>\n",
       "      <td>Full Time</td>\n",
       "      <td>$4,200</td>\n",
       "      <td>$7,300</td>\n",
       "      <td>Monthly</td>\n",
       "      <td>https://www.mycareersfuture.sg/job/office-info...</td>\n",
       "      <td>&lt;p&gt;&lt;strong&gt;Job Responsibilities&lt;/strong&gt;&lt;br&gt;- ...</td>\n",
       "      <td>NaN</td>\n",
       "    </tr>\n",
       "    <tr>\n",
       "      <th>1399</th>\n",
       "      <td>Engineer Complex Systems Modelling</td>\n",
       "      <td>Housing and Development Board</td>\n",
       "      <td>North, Central</td>\n",
       "      <td>NaN</td>\n",
       "      <td>Public / Civil Service</td>\n",
       "      <td>Contract</td>\n",
       "      <td>$2,400</td>\n",
       "      <td>$8,555</td>\n",
       "      <td>Monthly</td>\n",
       "      <td>https://www.mycareersfuture.sg/job/engineer-ho...</td>\n",
       "      <td>&lt;p&gt; &lt;/p&gt;&lt;p&gt;&lt;strong&gt;Responsibilities&lt;/strong&gt;&lt;/...</td>\n",
       "      <td>NaN</td>\n",
       "    </tr>\n",
       "    <tr>\n",
       "      <th>1436</th>\n",
       "      <td>Engineer Analytics</td>\n",
       "      <td>Housing and Development Board</td>\n",
       "      <td>North, Central</td>\n",
       "      <td>NaN</td>\n",
       "      <td>Public / Civil Service</td>\n",
       "      <td>Contract</td>\n",
       "      <td>$2,400</td>\n",
       "      <td>$8,555</td>\n",
       "      <td>Monthly</td>\n",
       "      <td>https://www.mycareersfuture.sg/job/engineer-ho...</td>\n",
       "      <td>&lt;p&gt; &lt;/p&gt;&lt;p&gt;&lt;strong&gt;Responsibilities &lt;/strong&gt;&lt;...</td>\n",
       "      <td>NaN</td>\n",
       "    </tr>\n",
       "    <tr>\n",
       "      <th>1605</th>\n",
       "      <td>School of Infocomm  Research Staff Data Analyt...</td>\n",
       "      <td>Republic Polytechnic</td>\n",
       "      <td>North</td>\n",
       "      <td>NaN</td>\n",
       "      <td>Education and Training ...</td>\n",
       "      <td>Contract</td>\n",
       "      <td>$3,100</td>\n",
       "      <td>$5,300</td>\n",
       "      <td>Monthly</td>\n",
       "      <td>https://www.mycareersfuture.sg/job/school-info...</td>\n",
       "      <td>&lt;p&gt;&lt;strong&gt;Job Responsibilities&lt;/strong&gt;&lt;br&gt; W...</td>\n",
       "      <td>NaN</td>\n",
       "    </tr>\n",
       "  </tbody>\n",
       "</table>\n",
       "</div>"
      ],
      "text/plain": [
       "                                              job_title  \\\n",
       "1159  Office of Information Services  Manager    Dep...   \n",
       "1399                 Engineer Complex Systems Modelling   \n",
       "1436                                 Engineer Analytics   \n",
       "1605  School of Infocomm  Research Staff Data Analyt...   \n",
       "\n",
       "                        job_company    job_location job_seniority  \\\n",
       "1159           Republic Polytechnic           North           NaN   \n",
       "1399  Housing and Development Board  North, Central           NaN   \n",
       "1436  Housing and Development Board  North, Central           NaN   \n",
       "1605           Republic Polytechnic           North           NaN   \n",
       "\n",
       "                    job_industry job_employment_type job_salary_range_from  \\\n",
       "1159  Education and Training ...           Full Time                $4,200   \n",
       "1399      Public / Civil Service            Contract                $2,400   \n",
       "1436      Public / Civil Service            Contract                $2,400   \n",
       "1605  Education and Training ...            Contract                $3,100   \n",
       "\n",
       "     job_salary_range_to job_salary_type  \\\n",
       "1159              $7,300         Monthly   \n",
       "1399              $8,555         Monthly   \n",
       "1436              $8,555         Monthly   \n",
       "1605              $5,300         Monthly   \n",
       "\n",
       "                                        job_details_url  \\\n",
       "1159  https://www.mycareersfuture.sg/job/office-info...   \n",
       "1399  https://www.mycareersfuture.sg/job/engineer-ho...   \n",
       "1436  https://www.mycareersfuture.sg/job/engineer-ho...   \n",
       "1605  https://www.mycareersfuture.sg/job/school-info...   \n",
       "\n",
       "                                        job_description job_requirements  \n",
       "1159  <p><strong>Job Responsibilities</strong><br>- ...              NaN  \n",
       "1399  <p> </p><p><strong>Responsibilities</strong></...              NaN  \n",
       "1436  <p> </p><p><strong>Responsibilities </strong><...              NaN  \n",
       "1605  <p><strong>Job Responsibilities</strong><br> W...              NaN  "
      ]
     },
     "execution_count": 1394,
     "metadata": {},
     "output_type": "execute_result"
    }
   ],
   "source": [
    "df[df['job_seniority'].isnull()]"
   ]
  },
  {
   "cell_type": "code",
   "execution_count": 1395,
   "metadata": {},
   "outputs": [],
   "source": [
    "# drop these\n",
    "df.drop(df[df['job_seniority'].isnull()].index,inplace=True)"
   ]
  },
  {
   "cell_type": "markdown",
   "metadata": {},
   "source": [
    "<a id='clean_data_job_industry'/>\n",
    "#### Let's clean job_industry"
   ]
  },
  {
   "cell_type": "code",
   "execution_count": 1396,
   "metadata": {},
   "outputs": [
    {
     "data": {
      "text/plain": [
       "Information Technology                  466\n",
       "Banking and Finance                     116\n",
       "Sciences / Laboratory / R&D              60\n",
       "Engineering ...                          49\n",
       "Engineering                              39\n",
       "Information Technology ...               28\n",
       "Banking and Finance ...                  25\n",
       "Others                                   24\n",
       "Consulting  ...                          24\n",
       "Consulting                               22\n",
       "Marketing / Public Relations              9\n",
       "Accounting / Auditing / Taxation          8\n",
       "Insurance                                 8\n",
       "Sales / Retail                            7\n",
       "Education and Training                    7\n",
       "Advertising / Media                       7\n",
       "Accounting / Auditing / Taxation ...      6\n",
       "Healthcare / Pharmaceutical               6\n",
       "Human Resources                           5\n",
       "Professional Services                     5\n",
       "Logistics / Supply Chain                  5\n",
       "Education and Training ...                4\n",
       "Advertising / Media  ...                  3\n",
       "General Management ...                    3\n",
       "Telecommunications                        2\n",
       "Design                                    2\n",
       "Real Estate / Property Management         2\n",
       "Risk Management                           2\n",
       "General Management                        2\n",
       "Architecture / Interior Design            1\n",
       "Healthcare / Pharmaceutical ...           1\n",
       "Human Resources  ...                      1\n",
       "Hospitality                               1\n",
       "Hospitality ...                           1\n",
       "F&B                                       1\n",
       "Building and Construction                 1\n",
       "Marketing / Public Relations  ...         1\n",
       "Customer Service                          1\n",
       "Travel / Tourism                          1\n",
       "Design ...                                1\n",
       "Admin / Secretarial ...                   1\n",
       "Logistics / Supply Chain ...              1\n",
       "Name: job_industry, dtype: int64"
      ]
     },
     "execution_count": 1396,
     "metadata": {},
     "output_type": "execute_result"
    }
   ],
   "source": [
    "df['job_industry'].value_counts()"
   ]
  },
  {
   "cell_type": "markdown",
   "metadata": {},
   "source": [
    "<a id='clean_data_job_employment_type'/>\n",
    "#### Let's clean job_employment_type"
   ]
  },
  {
   "cell_type": "code",
   "execution_count": 1397,
   "metadata": {},
   "outputs": [
    {
     "data": {
      "text/plain": [
       "Full Time        310\n",
       "Permanent ...    214\n",
       "Permanent        183\n",
       "Contract ...     131\n",
       "Contract         116\n",
       "Internship         2\n",
       "Full Time ...      1\n",
       "Temporary ...      1\n",
       "Freelance ...      1\n",
       "Name: job_employment_type, dtype: int64"
      ]
     },
     "execution_count": 1397,
     "metadata": {},
     "output_type": "execute_result"
    }
   ],
   "source": [
    "df['job_employment_type'].value_counts()"
   ]
  },
  {
   "cell_type": "code",
   "execution_count": 1398,
   "metadata": {},
   "outputs": [],
   "source": [
    "remove_punctuation_table = str.maketrans('','',string.punctuation)\n",
    "\n",
    "# Remove the '...  from job employment type\n",
    "df['job_employment_type'] = df['job_employment_type'].str.translate(remove_punctuation_table).str.strip(' ')"
   ]
  },
  {
   "cell_type": "code",
   "execution_count": 1399,
   "metadata": {},
   "outputs": [
    {
     "data": {
      "text/plain": [
       "Permanent     397\n",
       "Full Time     311\n",
       "Contract      247\n",
       "Internship      2\n",
       "Freelance       1\n",
       "Temporary       1\n",
       "Name: job_employment_type, dtype: int64"
      ]
     },
     "execution_count": 1399,
     "metadata": {},
     "output_type": "execute_result"
    }
   ],
   "source": [
    "df['job_employment_type'].value_counts()"
   ]
  },
  {
   "cell_type": "markdown",
   "metadata": {},
   "source": [
    "<a id='clean_data_job_salary'/>\n",
    "#### Let's clean job salary columns"
   ]
  },
  {
   "cell_type": "code",
   "execution_count": 1400,
   "metadata": {},
   "outputs": [
    {
     "data": {
      "text/plain": [
       "0    $12,000\n",
       "1     $7,000\n",
       "2    $15,500\n",
       "3     $9,000\n",
       "4     $5,000\n",
       "Name: job_salary_range_to, dtype: object"
      ]
     },
     "execution_count": 1400,
     "metadata": {},
     "output_type": "execute_result"
    }
   ],
   "source": [
    "df['job_salary_range_to'].head()"
   ]
  },
  {
   "cell_type": "code",
   "execution_count": 1401,
   "metadata": {},
   "outputs": [],
   "source": [
    "# remove '$',',' and convert into float\n",
    "remove_non_number_table = str.maketrans('','','$,')\n",
    "\n",
    "df['job_salary_range_from'] = df['job_salary_range_from'].str.translate(remove_non_number_table).astype(float)\n",
    "df['job_salary_range_to'] = df['job_salary_range_to'].str.translate(remove_non_number_table).astype(float)"
   ]
  },
  {
   "cell_type": "code",
   "execution_count": 1402,
   "metadata": {},
   "outputs": [
    {
     "data": {
      "text/plain": [
       "0    12000.0\n",
       "1     7000.0\n",
       "2    15500.0\n",
       "3     9000.0\n",
       "4     5000.0\n",
       "Name: job_salary_range_to, dtype: float64"
      ]
     },
     "execution_count": 1402,
     "metadata": {},
     "output_type": "execute_result"
    }
   ],
   "source": [
    "df['job_salary_range_to'].head()"
   ]
  },
  {
   "cell_type": "code",
   "execution_count": 1403,
   "metadata": {},
   "outputs": [
    {
     "data": {
      "text/plain": [
       "Monthly     925\n",
       "Annually     34\n",
       "Name: job_salary_type, dtype: int64"
      ]
     },
     "execution_count": 1403,
     "metadata": {},
     "output_type": "execute_result"
    }
   ],
   "source": [
    "df['job_salary_type'].value_counts()"
   ]
  },
  {
   "cell_type": "markdown",
   "metadata": {},
   "source": [
    "<a id='clean_data_job_description_requirements'/>\n",
    "#### Let's clean job requirements and description columns"
   ]
  },
  {
   "cell_type": "code",
   "execution_count": 1404,
   "metadata": {},
   "outputs": [
    {
     "data": {
      "text/plain": [
       "0    <p>JPMorgan Chase &amp; Co. (NYSE: JPM) is a l...\n",
       "1    <p><strong><u>About Asia Finance </u></strong>...\n",
       "2    <p><strong>Company overview:</strong></p><p>Go...\n",
       "3    <p>We are looking for creative and highly moti...\n",
       "4    <ul>   <li>Implementation of building control ...\n",
       "Name: job_description, dtype: object"
      ]
     },
     "execution_count": 1404,
     "metadata": {},
     "output_type": "execute_result"
    }
   ],
   "source": [
    "df['job_description'].head(5)"
   ]
  },
  {
   "cell_type": "code",
   "execution_count": 1405,
   "metadata": {},
   "outputs": [
    {
     "data": {
      "text/plain": [
       "0    JPMorgan Chase   Co. (NYSE: JPM) is a leading ...\n",
       "1    About Asia Finance     Asia Finance is a unifi...\n",
       "2    Company overview:   Google is not a convention...\n",
       "3    We are looking for creative and highly motivat...\n",
       "4    Implementation of building control and automat...\n",
       "Name: job_description, dtype: object"
      ]
     },
     "execution_count": 1405,
     "metadata": {},
     "output_type": "execute_result"
    }
   ],
   "source": [
    "# remove html tags\n",
    "expr_html_tag = re.compile('<.*?>|&amp;')\n",
    "\n",
    "df['job_description'] = df['job_description'].str.replace(expr_html_tag, ' ').str.strip(' ')\n",
    "df['job_description'].head(5)"
   ]
  },
  {
   "cell_type": "code",
   "execution_count": 1406,
   "metadata": {},
   "outputs": [],
   "source": [
    "# some rows have the job title appearing in job description , correct this\n",
    "for i,row in df.iterrows():\n",
    "    d = str(row['job_description']).lower()\n",
    "    t = row['job_title'].lower()\n",
    "    row['job_description'] = d.replace(t,'')"
   ]
  },
  {
   "cell_type": "code",
   "execution_count": 1407,
   "metadata": {},
   "outputs": [
    {
     "name": "stdout",
     "output_type": "stream",
     "text": [
      "54\n",
      "      college central     you should be trained in information technology, computer science or software engineering, with at least 3 years of relevant work experience in web/mobile applications development, content management system or it related field.   you should be competent with adobe cc applications and have good programming skills in ios programming (swift), c#, php, html5, css, javascript, python. candidates with experience and/or it certifications in areas of data analytics, internet of things (iot), or artificial intelligence (ai) and machine learning (ml) will have an advantage    college east    you should be trained in information technology, computer science, data science and/or analytics, with at least 3 years of relevant work experience to be able to develop students' skills in implementing iot/software applications, including data analytics solutions.   you should possess relevant experience in one or more of the following areas:   - development of iot applications   - data analytics technologies and big data   - proficiency in programming languages such as python, r or similar (familiarity with python-based libraries such as scikit-learn, numpy/scipy and pandas is preferred)   - programming web and mobile applications would be advantageous\n",
      "67\n",
      ":  \r\n",
      " degree, preferably in the areas of geospatial/computer science/engineering or similar area of study. \r\n",
      " at least 3 - 5 years of working experience in geospatial information science, analytics platforms, system analysis and design. \r\n",
      " excellent communication and presentation skills. able to relate technical information to all levels of the organisation. \r\n",
      " experience with gis and business intelligence software (e.g. qlikview, tableau). \r\n",
      " good knowledge of hadoop (cloudera/hortonworks) infrastructure, r, python and ability to code (python functional programming, java). \r\n",
      "   \n",
      "68\n",
      ":    degree, preferably in the areas of geospatial/computer science/engineering or similar area of study.   at least 5 years of working experience in geospatial information science, technology/e-services and/or commercial 2d/3d geospatial   modelling applications, iot, and big data.   experience in opensoure for geospatial, hive, pig, nosql databases, python, r, full stack dev, leaflet, chart.js, etc.   experience with gis software and business intelligence software (e.g. qlikview, tableau).   excellent communication and presentation skills. able to relate technical information to all levels of the organisation.        \n",
      "842\n",
      "No\n",
      "930\n",
      " \r\n",
      "     \n",
      "959\n",
      " for the enterprise data warehouse. \r\n",
      " identify and implement necessary changes to data, business processes and systems to achieve data harmonisation and consolidation. \r\n",
      " develop and deploy the data warehouse solution. \r\n",
      " seek visible ways (e.g. data analytics, data visualisation, applications) to apply or leverage data.   \r\n",
      "  \n",
      "1350\n",
      ":  \r\n",
      " degree or masters preferably in the areas of geospatial science/technology, computer science, software engineering, or equivalent.   \r\n",
      " at least 3 years of working experience in geospatial information science and technology or related fields.   \r\n",
      " proficient knowledge in gis, geospatial data modelling, and geodatabase management, and open standards   \r\n",
      " knowledge in machine learning and change detection techniques, remote sensing, application development will be an added advantage.   \r\n",
      " strong communication and interpersonal skills, problem-solving skills, and the ability to work in a team. \r\n",
      "      \n"
     ]
    }
   ],
   "source": [
    "# some rows have job requirements that are null, as they are embedded in job description\n",
    "for i,row in df[df['job_requirements'].isnull()].iterrows():\n",
    "    r = str(row['job_description']).lower().split('requirements')\n",
    "    \n",
    "    #row['job_requirements'] = r[1]\n",
    "    if (len(r) > 1):\n",
    "        print(i)\n",
    "        print(r[1])\n",
    "    else:\n",
    "        print(i)        \n",
    "        print('No')"
   ]
  },
  {
   "cell_type": "code",
   "execution_count": 1408,
   "metadata": {},
   "outputs": [],
   "source": [
    "# drop rows that will not have job requirements\n",
    "df.drop([842,959,930],inplace=True)"
   ]
  },
  {
   "cell_type": "code",
   "execution_count": 1409,
   "metadata": {},
   "outputs": [],
   "source": [
    "# populate null job requirements extracted from job description\n",
    "for i,row in df[df['job_requirements'].isnull()].iterrows():\n",
    "    r = str(row['job_description']).lower().split('requirements')\n",
    "    if (len(r) > 1):\n",
    "        df.loc[i,'job_description'] = r[0]\n",
    "        df.loc[i,'job_requirements'] = r[1]\n"
   ]
  },
  {
   "cell_type": "code",
   "execution_count": 1410,
   "metadata": {},
   "outputs": [
    {
     "data": {
      "text/plain": [
       "False"
      ]
     },
     "execution_count": 1410,
     "metadata": {},
     "output_type": "execute_result"
    }
   ],
   "source": [
    "df['job_requirements'].isnull().any()"
   ]
  },
  {
   "cell_type": "code",
   "execution_count": 1411,
   "metadata": {},
   "outputs": [
    {
     "data": {
      "text/plain": [
       "0    <p>This role requires a wide variety of streng...\n",
       "1    <p><strong>Requirements:</strong></p><ul>  <li...\n",
       "2    <p><strong>Minimum qualifications:</strong></p...\n",
       "3    <ul> \\t<li>Ph.D in a quantitative field, stron...\n",
       "4    <ul>   <li>Bachelor or Masters in Engineering ...\n",
       "Name: job_requirements, dtype: object"
      ]
     },
     "execution_count": 1411,
     "metadata": {},
     "output_type": "execute_result"
    }
   ],
   "source": [
    "df['job_requirements'].head(5)"
   ]
  },
  {
   "cell_type": "code",
   "execution_count": 1412,
   "metadata": {},
   "outputs": [
    {
     "data": {
      "text/plain": [
       "0    This role requires a wide variety of strengths...\n",
       "1    Requirements:      3 or more years of UX/UI de...\n",
       "2    Minimum qualifications:   - 3 years of experie...\n",
       "3    \\t Ph.D in a quantitative field, strong mathem...\n",
       "4    Bachelor or Masters in Engineering (Electrical...\n",
       "Name: job_requirements, dtype: object"
      ]
     },
     "execution_count": 1412,
     "metadata": {},
     "output_type": "execute_result"
    }
   ],
   "source": [
    "# remove html tags\n",
    "expr_html_tag = re.compile('<.*?>|&amp;')\n",
    "\n",
    "df['job_requirements'] = df['job_requirements'].str.replace(expr_html_tag, ' ').str.strip(' ')\n",
    "df['job_requirements'].head(5)"
   ]
  },
  {
   "cell_type": "code",
   "execution_count": 1413,
   "metadata": {},
   "outputs": [
    {
     "data": {
      "text/html": [
       "<div>\n",
       "<style scoped>\n",
       "    .dataframe tbody tr th:only-of-type {\n",
       "        vertical-align: middle;\n",
       "    }\n",
       "\n",
       "    .dataframe tbody tr th {\n",
       "        vertical-align: top;\n",
       "    }\n",
       "\n",
       "    .dataframe thead th {\n",
       "        text-align: right;\n",
       "    }\n",
       "</style>\n",
       "<table border=\"1\" class=\"dataframe\">\n",
       "  <thead>\n",
       "    <tr style=\"text-align: right;\">\n",
       "      <th></th>\n",
       "      <th>job_title</th>\n",
       "      <th>job_company</th>\n",
       "      <th>job_location</th>\n",
       "      <th>job_seniority</th>\n",
       "      <th>job_industry</th>\n",
       "      <th>job_employment_type</th>\n",
       "      <th>job_salary_range_from</th>\n",
       "      <th>job_salary_range_to</th>\n",
       "      <th>job_salary_type</th>\n",
       "      <th>job_details_url</th>\n",
       "      <th>job_description</th>\n",
       "      <th>job_requirements</th>\n",
       "    </tr>\n",
       "  </thead>\n",
       "  <tbody>\n",
       "  </tbody>\n",
       "</table>\n",
       "</div>"
      ],
      "text/plain": [
       "Empty DataFrame\n",
       "Columns: [job_title, job_company, job_location, job_seniority, job_industry, job_employment_type, job_salary_range_from, job_salary_range_to, job_salary_type, job_details_url, job_description, job_requirements]\n",
       "Index: []"
      ]
     },
     "execution_count": 1413,
     "metadata": {},
     "output_type": "execute_result"
    }
   ],
   "source": [
    "# at the end of cleaning, verify again no values are null\n",
    "df[df.isnull().any(axis=1)]"
   ]
  },
  {
   "cell_type": "code",
   "execution_count": 1414,
   "metadata": {},
   "outputs": [
    {
     "data": {
      "text/plain": [
       "(956, 12)"
      ]
     },
     "execution_count": 1414,
     "metadata": {},
     "output_type": "execute_result"
    }
   ],
   "source": [
    "df.shape"
   ]
  },
  {
   "cell_type": "code",
   "execution_count": 1415,
   "metadata": {},
   "outputs": [],
   "source": [
    "df = df.reindex()"
   ]
  },
  {
   "cell_type": "markdown",
   "metadata": {},
   "source": [
    "<a id='split_train_test'/>\n",
    "### Split into training and test sets"
   ]
  },
  {
   "cell_type": "code",
   "execution_count": 1416,
   "metadata": {},
   "outputs": [],
   "source": [
    "# create 2 more monthly salary range columns\n",
    "df['monthly_salary_range_from'] = df['job_salary_range_from']\n",
    "df['monthly_salary_range_to'] = df['job_salary_range_to']\n",
    "for i,row in df.iterrows():\n",
    "    if row['job_salary_type']=='Annually':\n",
    "        df.loc[i,'monthly_salary_range_from'] = row['job_salary_range_from']/12\n",
    "        df.loc[i,'monthly_salary_range_to'] = row['job_salary_range_to']/12       "
   ]
  },
  {
   "cell_type": "code",
   "execution_count": 1417,
   "metadata": {},
   "outputs": [],
   "source": [
    "# create average salary\n",
    "df['monthly_salary_avg'] = (df['monthly_salary_range_to'] + df['monthly_salary_range_from']) / 2"
   ]
  },
  {
   "cell_type": "code",
   "execution_count": 1418,
   "metadata": {},
   "outputs": [],
   "source": [
    "# train test split\n",
    "Xtrain, Xtest, ytrain, ytest = train_test_split(df, df['job_salary_range_from'], test_size=0.25)\n",
    "\n",
    "# at this point in time the features are not ready yet!  splitting just to make sure we do EDA on train set.\n",
    "# get hold of traiin set index\n",
    "Xtrain_indices = Xtrain.index\n",
    "Xtest_indices = Xtest.index"
   ]
  },
  {
   "cell_type": "markdown",
   "metadata": {},
   "source": [
    "<a id='eda_fe'/>\n",
    "### Exploratory Data Analysis and Feature Engineering"
   ]
  },
  {
   "cell_type": "code",
   "execution_count": 1419,
   "metadata": {},
   "outputs": [
    {
     "data": {
      "text/plain": [
       "<matplotlib.axes._subplots.AxesSubplot at 0x2716e17f6d8>"
      ]
     },
     "execution_count": 1419,
     "metadata": {},
     "output_type": "execute_result"
    },
    {
     "data": {
      "image/png": "[encoded data removed]",
      "text/plain": [
       "<Figure size 432x288 with 1 Axes>"
      ]
     },
     "metadata": {
      "image/png": {
       "height": 250,
       "width": 385
      }
     },
     "output_type": "display_data"
    }
   ],
   "source": [
    "#boxplot\n",
    "Xtrain[['monthly_salary_avg']].boxplot()\n",
    "#plt.xticks(rotation='vertical')\n",
    "\n",
    "# lots of outliers"
   ]
  },
  {
   "cell_type": "code",
   "execution_count": 1420,
   "metadata": {},
   "outputs": [
    {
     "data": {
      "image/png": "[encoded data removed]",
      "text/plain": [
       "<Figure size 432x288 with 1 Axes>"
      ]
     },
     "metadata": {
      "image/png": {
       "height": 276,
       "width": 388
      }
     },
     "output_type": "display_data"
    }
   ],
   "source": [
    "plt.hist(Xtrain['monthly_salary_avg'],bins=50)\n",
    "plt.title('Distribution of Average Monthly Salary'); plt.xlabel('Average Monthly Salary'); plt.ylabel('Count');\n",
    "# seems skewed significantly by outliers"
   ]
  },
  {
   "cell_type": "code",
   "execution_count": 1421,
   "metadata": {},
   "outputs": [],
   "source": [
    "X_train_mean = Xtrain['monthly_salary_avg'].mean()\n",
    "X_train_std_dev = Xtrain['monthly_salary_avg'].std()"
   ]
  },
  {
   "cell_type": "code",
   "execution_count": 1422,
   "metadata": {},
   "outputs": [
    {
     "data": {
      "text/html": [
       "<div>\n",
       "<style scoped>\n",
       "    .dataframe tbody tr th:only-of-type {\n",
       "        vertical-align: middle;\n",
       "    }\n",
       "\n",
       "    .dataframe tbody tr th {\n",
       "        vertical-align: top;\n",
       "    }\n",
       "\n",
       "    .dataframe thead th {\n",
       "        text-align: right;\n",
       "    }\n",
       "</style>\n",
       "<table border=\"1\" class=\"dataframe\">\n",
       "  <thead>\n",
       "    <tr style=\"text-align: right;\">\n",
       "      <th></th>\n",
       "      <th>job_title</th>\n",
       "      <th>job_company</th>\n",
       "      <th>job_location</th>\n",
       "      <th>job_seniority</th>\n",
       "      <th>job_industry</th>\n",
       "      <th>job_employment_type</th>\n",
       "      <th>job_salary_range_from</th>\n",
       "      <th>job_salary_range_to</th>\n",
       "      <th>job_salary_type</th>\n",
       "      <th>job_details_url</th>\n",
       "      <th>job_description</th>\n",
       "      <th>job_requirements</th>\n",
       "      <th>monthly_salary_range_from</th>\n",
       "      <th>monthly_salary_range_to</th>\n",
       "      <th>monthly_salary_avg</th>\n",
       "    </tr>\n",
       "  </thead>\n",
       "  <tbody>\n",
       "    <tr>\n",
       "      <th>604</th>\n",
       "      <td>Test Manager CRM</td>\n",
       "      <td>Company Undisclosed</td>\n",
       "      <td>South</td>\n",
       "      <td>Manager</td>\n",
       "      <td>Information Technology</td>\n",
       "      <td>Contract</td>\n",
       "      <td>6000.0</td>\n",
       "      <td>85000.0</td>\n",
       "      <td>Monthly</td>\n",
       "      <td>https://www.mycareersfuture.sg/job/test-manage...</td>\n",
       "      <td>As a Test Manager, you will be expected to lea...</td>\n",
       "      <td>Bachelor’s degree in computer science/engineer...</td>\n",
       "      <td>6000.0</td>\n",
       "      <td>85000.0</td>\n",
       "      <td>45500.0</td>\n",
       "    </tr>\n",
       "    <tr>\n",
       "      <th>669</th>\n",
       "      <td>Business Intelligence Finance Senior Analyst  ...</td>\n",
       "      <td>KERRY CONSULTING PTE. LTD.</td>\n",
       "      <td>Islandwide</td>\n",
       "      <td>Manager</td>\n",
       "      <td>Accounting / Auditing / Taxation</td>\n",
       "      <td>Permanent</td>\n",
       "      <td>70000.0</td>\n",
       "      <td>120000.0</td>\n",
       "      <td>Monthly</td>\n",
       "      <td>https://www.mycareersfuture.sg/job/business-in...</td>\n",
       "      <td>- Established Industry Leader  - Newly Created...</td>\n",
       "      <td>The successful candidate should have a relevan...</td>\n",
       "      <td>70000.0</td>\n",
       "      <td>120000.0</td>\n",
       "      <td>95000.0</td>\n",
       "    </tr>\n",
       "    <tr>\n",
       "      <th>260</th>\n",
       "      <td>Data Scientist</td>\n",
       "      <td>EXIGER SINGAPORE PTE. LTD.</td>\n",
       "      <td>Central</td>\n",
       "      <td>Professional</td>\n",
       "      <td>Information Technology ...</td>\n",
       "      <td>Permanent</td>\n",
       "      <td>12000.0</td>\n",
       "      <td>160000.0</td>\n",
       "      <td>Monthly</td>\n",
       "      <td>https://www.mycareersfuture.sg/job/data-scient...</td>\n",
       "      <td>Position Summary   We are looking for a resour...</td>\n",
       "      <td>Professional Experience Required      A degree...</td>\n",
       "      <td>12000.0</td>\n",
       "      <td>160000.0</td>\n",
       "      <td>86000.0</td>\n",
       "    </tr>\n",
       "    <tr>\n",
       "      <th>727</th>\n",
       "      <td>Data Team Lead</td>\n",
       "      <td>MONEYSMART SINGAPORE PTE. LTD.</td>\n",
       "      <td>South</td>\n",
       "      <td>Manager</td>\n",
       "      <td>Information Technology</td>\n",
       "      <td>Permanent</td>\n",
       "      <td>8000.0</td>\n",
       "      <td>140000.0</td>\n",
       "      <td>Monthly</td>\n",
       "      <td>https://www.mycareersfuture.sg/job/data-team-l...</td>\n",
       "      <td>About the job   Moneysmart is hiring a Data Te...</td>\n",
       "      <td>Requirements    \\t 6+ years of professional ex...</td>\n",
       "      <td>8000.0</td>\n",
       "      <td>140000.0</td>\n",
       "      <td>74000.0</td>\n",
       "    </tr>\n",
       "  </tbody>\n",
       "</table>\n",
       "</div>"
      ],
      "text/plain": [
       "                                             job_title  \\\n",
       "604                                   Test Manager CRM   \n",
       "669  Business Intelligence Finance Senior Analyst  ...   \n",
       "260                                     Data Scientist   \n",
       "727                                     Data Team Lead   \n",
       "\n",
       "                        job_company job_location job_seniority  \\\n",
       "604             Company Undisclosed        South       Manager   \n",
       "669      KERRY CONSULTING PTE. LTD.   Islandwide       Manager   \n",
       "260      EXIGER SINGAPORE PTE. LTD.      Central  Professional   \n",
       "727  MONEYSMART SINGAPORE PTE. LTD.        South       Manager   \n",
       "\n",
       "                         job_industry job_employment_type  \\\n",
       "604            Information Technology            Contract   \n",
       "669  Accounting / Auditing / Taxation           Permanent   \n",
       "260        Information Technology ...           Permanent   \n",
       "727            Information Technology           Permanent   \n",
       "\n",
       "     job_salary_range_from  job_salary_range_to job_salary_type  \\\n",
       "604                 6000.0              85000.0         Monthly   \n",
       "669                70000.0             120000.0         Monthly   \n",
       "260                12000.0             160000.0         Monthly   \n",
       "727                 8000.0             140000.0         Monthly   \n",
       "\n",
       "                                       job_details_url  \\\n",
       "604  https://www.mycareersfuture.sg/job/test-manage...   \n",
       "669  https://www.mycareersfuture.sg/job/business-in...   \n",
       "260  https://www.mycareersfuture.sg/job/data-scient...   \n",
       "727  https://www.mycareersfuture.sg/job/data-team-l...   \n",
       "\n",
       "                                       job_description  \\\n",
       "604  As a Test Manager, you will be expected to lea...   \n",
       "669  - Established Industry Leader  - Newly Created...   \n",
       "260  Position Summary   We are looking for a resour...   \n",
       "727  About the job   Moneysmart is hiring a Data Te...   \n",
       "\n",
       "                                      job_requirements  \\\n",
       "604  Bachelor’s degree in computer science/engineer...   \n",
       "669  The successful candidate should have a relevan...   \n",
       "260  Professional Experience Required      A degree...   \n",
       "727  Requirements    \\t 6+ years of professional ex...   \n",
       "\n",
       "     monthly_salary_range_from  monthly_salary_range_to  monthly_salary_avg  \n",
       "604                     6000.0                  85000.0             45500.0  \n",
       "669                    70000.0                 120000.0             95000.0  \n",
       "260                    12000.0                 160000.0             86000.0  \n",
       "727                     8000.0                 140000.0             74000.0  "
      ]
     },
     "execution_count": 1422,
     "metadata": {},
     "output_type": "execute_result"
    }
   ],
   "source": [
    "Xtrain[np.abs(Xtrain['monthly_salary_avg']-X_train_mean) > (3*X_train_std_dev)]\n",
    "# review the ones that are outside +3 to -3 standard deviations"
   ]
  },
  {
   "cell_type": "code",
   "execution_count": 1423,
   "metadata": {},
   "outputs": [],
   "source": [
    "indices_to_be_dropped = Xtrain[np.abs(Xtrain['monthly_salary_avg']-X_train_mean) > (3*X_train_std_dev)].index"
   ]
  },
  {
   "cell_type": "code",
   "execution_count": 1424,
   "metadata": {},
   "outputs": [
    {
     "name": "stdout",
     "output_type": "stream",
     "text": [
      "(956, 15)\n",
      "(952, 15)\n"
     ]
    }
   ],
   "source": [
    "# drop the outliers that are outside +3 to -3 standard deviations\n",
    "print(df.shape)\n",
    "df.drop(indices_to_be_dropped, inplace = True)\n",
    "Xtrain_indices = [item for item in Xtrain_indices if item not in indices_to_be_dropped]\n",
    "print(df.shape)"
   ]
  },
  {
   "cell_type": "code",
   "execution_count": 1426,
   "metadata": {},
   "outputs": [],
   "source": [
    "Xtrain = df.loc[Xtrain_indices]"
   ]
  },
  {
   "cell_type": "code",
   "execution_count": 1427,
   "metadata": {},
   "outputs": [
    {
     "data": {
      "text/plain": [
       "<matplotlib.axes._subplots.AxesSubplot at 0x2716dfd7ba8>"
      ]
     },
     "execution_count": 1427,
     "metadata": {},
     "output_type": "execute_result"
    },
    {
     "data": {
      "image/png": "[encoded data removed]",
      "text/plain": [
       "<Figure size 432x288 with 1 Axes>"
      ]
     },
     "metadata": {
      "image/png": {
       "height": 250,
       "width": 385
      }
     },
     "output_type": "display_data"
    }
   ],
   "source": [
    "#boxplot\n",
    "Xtrain[['monthly_salary_avg']].boxplot()"
   ]
  },
  {
   "cell_type": "code",
   "execution_count": 1428,
   "metadata": {},
   "outputs": [
    {
     "data": {
      "image/png": "[encoded data removed]",
      "text/plain": [
       "<Figure size 432x288 with 1 Axes>"
      ]
     },
     "metadata": {
      "image/png": {
       "height": 276,
       "width": 388
      }
     },
     "output_type": "display_data"
    }
   ],
   "source": [
    "plt.hist(Xtrain['monthly_salary_avg'],bins=25)\n",
    "plt.title('Distribution of Average Monthly Salary'); plt.xlabel('Average Monthly Salary'); plt.ylabel('Count');"
   ]
  },
  {
   "cell_type": "markdown",
   "metadata": {},
   "source": [
    "#### Add salary labels to indicate high or low based on median average monthly salary of Training Set"
   ]
  },
  {
   "cell_type": "code",
   "execution_count": 1430,
   "metadata": {},
   "outputs": [
    {
     "data": {
      "text/plain": [
       "6750.0"
      ]
     },
     "execution_count": 1430,
     "metadata": {},
     "output_type": "execute_result"
    }
   ],
   "source": [
    "# median salary of training set - add salary label to classify high or low\n",
    "Xtrain['monthly_salary_avg'].median()"
   ]
  },
  {
   "cell_type": "code",
   "execution_count": 1431,
   "metadata": {},
   "outputs": [],
   "source": [
    "df['monthly_salary_class'] = df['monthly_salary_avg'].map(lambda x: 1 if x >= Xtrain['monthly_salary_avg'].median() else 0)"
   ]
  },
  {
   "cell_type": "code",
   "execution_count": 1433,
   "metadata": {},
   "outputs": [
    {
     "data": {
      "text/plain": [
       "0.5231416549789621"
      ]
     },
     "execution_count": 1433,
     "metadata": {},
     "output_type": "execute_result"
    }
   ],
   "source": [
    "#### Check baseline for Xtrain\n",
    "Xtrain = df.loc[Xtrain_indices]\n",
    "Xtrain['monthly_salary_class'].mean()"
   ]
  },
  {
   "cell_type": "code",
   "execution_count": null,
   "metadata": {},
   "outputs": [],
   "source": [
    "#### Perform NLP preprocessing"
   ]
  },
  {
   "cell_type": "code",
   "execution_count": 1448,
   "metadata": {},
   "outputs": [
    {
     "name": "stdout",
     "output_type": "stream",
     "text": [
      "(713, 16)\n",
      "(239, 16)\n",
      "(952, 16)\n"
     ]
    }
   ],
   "source": [
    "Xtrain = df.loc[Xtrain_indices]\n",
    "Xtest = df.loc[Xtest_indices]\n",
    "print(Xtrain.shape)\n",
    "print(Xtest.shape)\n",
    "print(df.shape)\n",
    "assert df.shape[0] == Xtrain.shape[0] + Xtest.shape[0]"
   ]
  },
  {
   "cell_type": "code",
   "execution_count": 1479,
   "metadata": {},
   "outputs": [],
   "source": [
    "# use CountVectorizer to create document-term matrices from X_train and X_test for job description\n",
    "jd_cv = CountVectorizer(ngram_range=(1, 2),max_features=10000,stop_words='english',min_df=2)\n",
    "Xtrain_cv_job_description = jd_cv.fit_transform(Xtrain['job_description'])\n",
    "Xtest_cv_job_description = jd_cv.transform(Xtest['job_description'])\n",
    "\n",
    "Xtrain_cv_job_description_df = pd.DataFrame(Xtrain_cv_job_description.todense(), columns=['jd_' + n for n in jd_cv.get_feature_names()])"
   ]
  },
  {
   "cell_type": "code",
   "execution_count": 1480,
   "metadata": {},
   "outputs": [],
   "source": [
    "# use CountVectorizer to create document-term matrices from X_train and X_test for job requirements\n",
    "jr_cv = CountVectorizer(ngram_range=(1, 2),max_features=10000,stop_words='english',min_df=2)\n",
    "Xtrain_cv_job_requirements = jr_cv.fit_transform(Xtrain['job_requirements'])\n",
    "Xtest_cv_job_requirements = jr_cv.transform(Xtest['job_requirements'])\n",
    "\n",
    "Xtrain_cv_job_requirements_df = pd.DataFrame(Xtrain_cv_job_requirements.todense(), columns=['jr_' + n for n in jr_cv.get_feature_names()])"
   ]
  },
  {
   "cell_type": "code",
   "execution_count": 1518,
   "metadata": {},
   "outputs": [
    {
     "data": {
      "text/plain": [
       "jt_12                         0\n",
       "jt_12 month                   0\n",
       "jt_180004im                   0\n",
       "jt_20                         0\n",
       "jt_20 i2r                     0\n",
       "jt_2019                       0\n",
       "jt_2019 time                  0\n",
       "jt_610                        0\n",
       "jt_administrator              0\n",
       "jt_ai                         0\n",
       "jt_algorithm                  0\n",
       "jt_algorithm engineer         0\n",
       "jt_analysis                   0\n",
       "jt_analyst                    0\n",
       "jt_analyst avp                0\n",
       "jt_analyst bi                 0\n",
       "jt_analyst business           0\n",
       "jt_analyst cbg                0\n",
       "jt_analyst data               0\n",
       "jt_analyst digital            0\n",
       "jt_analyst engineering        0\n",
       "jt_analyst lead               0\n",
       "jt_analyst manager            0\n",
       "jt_analyst marketing          0\n",
       "jt_analyst net                0\n",
       "jt_analyst regulatory         0\n",
       "jt_analyst risk               0\n",
       "jt_analyst sap                0\n",
       "jt_analyst scientist          0\n",
       "jt_analyst singapore          0\n",
       "                             ..\n",
       "jt_time campus                0\n",
       "jt_trading                    0\n",
       "jt_transformation             0\n",
       "jt_transformation grp         0\n",
       "jt_treasury                   0\n",
       "jt_trust                      0\n",
       "jt_trust safety               0\n",
       "jt_ui                         0\n",
       "jt_uipath                     0\n",
       "jt_university                 0\n",
       "jt_ux                         0\n",
       "jt_ux designer                0\n",
       "jt_vice                       0\n",
       "jt_vice president             0\n",
       "jt_vision                     0\n",
       "jt_vision engineer            0\n",
       "jt_visual                     0\n",
       "jt_visual intelligence        0\n",
       "jt_visualization              0\n",
       "jt_visualization developer    0\n",
       "jt_vp                         0\n",
       "jt_vp avp                     0\n",
       "jt_warehousing                0\n",
       "jt_web                        0\n",
       "jt_west                       0\n",
       "jt_writer                     0\n",
       "jt_year                       0\n",
       "jt_year contract              0\n",
       "jt_yr                         0\n",
       "jt_yr contract                0\n",
       "Length: 498, dtype: int64"
      ]
     },
     "execution_count": 1518,
     "metadata": {},
     "output_type": "execute_result"
    }
   ],
   "source": [
    "jt_cv = CountVectorizer(ngram_range=(1, 2),max_features=10000,stop_words='english',min_df=2)\n",
    "Xtrain_cv_job_title = jt_cv.fit_transform(Xtrain['job_title'])\n",
    "Xtest_cv_job_title = jt_cv.transform(Xtest['job_title'])\n",
    "\n",
    "Xtrain_cv_job_title_df = pd.DataFrame(Xtrain_cv_job_title.todense(), columns=['jt_' + n for n in jt_cv.get_feature_names()])\n",
    "\n"
   ]
  },
  {
   "cell_type": "code",
   "execution_count": 1482,
   "metadata": {},
   "outputs": [
    {
     "data": {
      "text/plain": [
       "experience       2232\n",
       "data             1270\n",
       "skills            948\n",
       "business          669\n",
       "knowledge         603\n",
       "strong            593\n",
       "years             557\n",
       "ability           497\n",
       "good              455\n",
       "management        453\n",
       "work              433\n",
       "degree            410\n",
       "working           394\n",
       "communication     382\n",
       "science           374\n",
       "computer          351\n",
       "development       333\n",
       "team              324\n",
       "learning          318\n",
       "requirements      306\n",
       "dtype: int64"
      ]
     },
     "execution_count": 1482,
     "metadata": {},
     "output_type": "execute_result"
    }
   ],
   "source": [
    "# So .. we'll use np.sum() to convert it directly from the sparse matrix!\n",
    "# This is enormously more memory-efficient ...\n",
    "#   It only requires one int per column since summing across columns is the total word count.\n",
    "\n",
    "def get_freq_words(sparse_counts, columns):\n",
    "    # X_all is a sparse matrix, so sum() returns a 'matrix' datatype ...\n",
    "    #   which we then convert into a 1-D ndarray for sorting\n",
    "    word_counts = np.asarray(sparse_counts.sum(axis=0)).reshape(-1)\n",
    "\n",
    "    # argsort() returns smallest first, so we reverse the result\n",
    "    largest_count_indices = word_counts.argsort()[::-1]\n",
    "\n",
    "    # pretty-print the results! Remember to always ask whether they make sense ...\n",
    "    freq_words = pd.Series(word_counts[largest_count_indices], \n",
    "                           index=columns[largest_count_indices])\n",
    "\n",
    "    return freq_words\n",
    "\n",
    "\n",
    "freq_words = get_freq_words(Xtrain_cv_job_requirements, np.array(jr_cv.get_feature_names()))\n",
    "freq_words[:20]"
   ]
  },
  {
   "cell_type": "code",
   "execution_count": 1483,
   "metadata": {},
   "outputs": [
    {
     "data": {
      "text/plain": [
       "data            2293\n",
       "business        1506\n",
       "team             743\n",
       "work             652\n",
       "solutions        589\n",
       "management       564\n",
       "design           560\n",
       "development      507\n",
       "support          507\n",
       "requirements     486\n",
       "project          472\n",
       "learning         465\n",
       "develop          452\n",
       "analysis         380\n",
       "teams            377\n",
       "technical        370\n",
       "research         366\n",
       "experience       361\n",
       "analytics        352\n",
       "new              350\n",
       "dtype: int64"
      ]
     },
     "execution_count": 1483,
     "metadata": {},
     "output_type": "execute_result"
    }
   ],
   "source": [
    "freq_words = get_freq_words(Xtrain_cv_job_description, np.array(jd_cv.get_feature_names()))\n",
    "freq_words[:20]"
   ]
  },
  {
   "cell_type": "code",
   "execution_count": 1484,
   "metadata": {},
   "outputs": [
    {
     "data": {
      "text/plain": [
       "analyst             238\n",
       "data                224\n",
       "business            199\n",
       "business analyst    150\n",
       "engineer            150\n",
       "senior              129\n",
       "scientist            80\n",
       "manager              69\n",
       "data scientist       53\n",
       "data engineer        44\n",
       "research             43\n",
       "developer            42\n",
       "consultant           35\n",
       "data analyst         35\n",
       "analytics            33\n",
       "lead                 31\n",
       "big                  31\n",
       "associate            30\n",
       "big data             30\n",
       "senior business      27\n",
       "dtype: int64"
      ]
     },
     "execution_count": 1484,
     "metadata": {},
     "output_type": "execute_result"
    }
   ],
   "source": [
    "freq_words = get_freq_words(Xtrain_cv_job_title, np.array(jt_cv.get_feature_names()))\n",
    "freq_words[:20]"
   ]
  },
  {
   "cell_type": "code",
   "execution_count": 1510,
   "metadata": {},
   "outputs": [],
   "source": [
    "df_train_job_industry = pd.get_dummies(df['job_industry'], prefix='ji', prefix_sep='_', dummy_na=False, sparse=False, drop_first=True, dtype=None)\n",
    "Xtrain_job_industry = df_train_job_industry.loc[Xtrain_indices]"
   ]
  },
  {
   "cell_type": "code",
   "execution_count": 1519,
   "metadata": {},
   "outputs": [
    {
     "data": {
      "text/plain": [
       "js_Executive            0\n",
       "js_Freshentry level     0\n",
       "js_Junior Executive     0\n",
       "js_Manager              0\n",
       "js_Middle Management    0\n",
       "js_Nonexecutive         0\n",
       "js_Professional         0\n",
       "js_Senior Executive     0\n",
       "js_Senior Management    0\n",
       "dtype: int64"
      ]
     },
     "execution_count": 1519,
     "metadata": {},
     "output_type": "execute_result"
    }
   ],
   "source": [
    "x = df['job_seniority'].str.split(', ', expand=True).stack().reset_index(level=1, drop=True)\n",
    "df_job_seniority = pd.get_dummies(x, prefix='js', columns=['job_seniority']).groupby(level=0).sum()\n",
    "Xtrain_job_seniority = df_job_seniority.loc[Xtrain_indices]"
   ]
  },
  {
   "cell_type": "code",
   "execution_count": 1524,
   "metadata": {},
   "outputs": [],
   "source": [
    "# concatenate all the features together\n",
    "\n",
    "Xtrain_all = pd.concat([Xtrain_cv_job_title_df.reindex(),Xtrain_cv_job_description_df.reindex(),Xtrain_cv_job_requirements_df.reindex(),Xtrain_job_industry.reindex(),Xtrain_job_seniority.reindex()],axis=1)"
   ]
  },
  {
   "cell_type": "markdown",
   "metadata": {},
   "source": [
    "<a id='qn1'/>\n",
    "### Qn 1 - Train and Test"
   ]
  },
  {
   "cell_type": "code",
   "execution_count": 1516,
   "metadata": {},
   "outputs": [
    {
     "ename": "ValueError",
     "evalue": "Input contains NaN, infinity or a value too large for dtype('float32').",
     "output_type": "error",
     "traceback": [
      "\u001b[1;31m---------------------------------------------------------------------------\u001b[0m",
      "\u001b[1;31mValueError\u001b[0m                                Traceback (most recent call last)",
      "\u001b[1;32m<ipython-input-1516-d76d0c6bcb41>\u001b[0m in \u001b[0;36m<module>\u001b[1;34m()\u001b[0m\n\u001b[0;32m      5\u001b[0m \u001b[0mknn\u001b[0m \u001b[1;33m=\u001b[0m \u001b[0mKNeighborsClassifier\u001b[0m\u001b[1;33m(\u001b[0m\u001b[0mn_neighbors\u001b[0m\u001b[1;33m=\u001b[0m\u001b[1;36m7\u001b[0m\u001b[1;33m)\u001b[0m\u001b[1;33m\u001b[0m\u001b[0m\n\u001b[0;32m      6\u001b[0m \u001b[1;33m\u001b[0m\u001b[0m\n\u001b[1;32m----> 7\u001b[1;33m \u001b[0mrf\u001b[0m\u001b[1;33m.\u001b[0m\u001b[0mfit\u001b[0m\u001b[1;33m(\u001b[0m\u001b[0mXtrain_all\u001b[0m\u001b[1;33m,\u001b[0m \u001b[0mytrain\u001b[0m\u001b[1;33m)\u001b[0m\u001b[1;33m\u001b[0m\u001b[0m\n\u001b[0m\u001b[0;32m      8\u001b[0m \u001b[0mknn\u001b[0m\u001b[1;33m.\u001b[0m\u001b[0mfit\u001b[0m\u001b[1;33m(\u001b[0m\u001b[0mXtrain_all\u001b[0m\u001b[1;33m,\u001b[0m \u001b[0mytrain\u001b[0m\u001b[1;33m)\u001b[0m\u001b[1;33m\u001b[0m\u001b[0m\n",
      "\u001b[1;32m~\\Anaconda3\\lib\\site-packages\\sklearn\\ensemble\\forest.py\u001b[0m in \u001b[0;36mfit\u001b[1;34m(self, X, y, sample_weight)\u001b[0m\n\u001b[0;32m    245\u001b[0m         \"\"\"\n\u001b[0;32m    246\u001b[0m         \u001b[1;31m# Validate or convert input data\u001b[0m\u001b[1;33m\u001b[0m\u001b[1;33m\u001b[0m\u001b[0m\n\u001b[1;32m--> 247\u001b[1;33m         \u001b[0mX\u001b[0m \u001b[1;33m=\u001b[0m \u001b[0mcheck_array\u001b[0m\u001b[1;33m(\u001b[0m\u001b[0mX\u001b[0m\u001b[1;33m,\u001b[0m \u001b[0maccept_sparse\u001b[0m\u001b[1;33m=\u001b[0m\u001b[1;34m\"csc\"\u001b[0m\u001b[1;33m,\u001b[0m \u001b[0mdtype\u001b[0m\u001b[1;33m=\u001b[0m\u001b[0mDTYPE\u001b[0m\u001b[1;33m)\u001b[0m\u001b[1;33m\u001b[0m\u001b[0m\n\u001b[0m\u001b[0;32m    248\u001b[0m         \u001b[0my\u001b[0m \u001b[1;33m=\u001b[0m \u001b[0mcheck_array\u001b[0m\u001b[1;33m(\u001b[0m\u001b[0my\u001b[0m\u001b[1;33m,\u001b[0m \u001b[0maccept_sparse\u001b[0m\u001b[1;33m=\u001b[0m\u001b[1;34m'csc'\u001b[0m\u001b[1;33m,\u001b[0m \u001b[0mensure_2d\u001b[0m\u001b[1;33m=\u001b[0m\u001b[1;32mFalse\u001b[0m\u001b[1;33m,\u001b[0m \u001b[0mdtype\u001b[0m\u001b[1;33m=\u001b[0m\u001b[1;32mNone\u001b[0m\u001b[1;33m)\u001b[0m\u001b[1;33m\u001b[0m\u001b[0m\n\u001b[0;32m    249\u001b[0m         \u001b[1;32mif\u001b[0m \u001b[0msample_weight\u001b[0m \u001b[1;32mis\u001b[0m \u001b[1;32mnot\u001b[0m \u001b[1;32mNone\u001b[0m\u001b[1;33m:\u001b[0m\u001b[1;33m\u001b[0m\u001b[0m\n",
      "\u001b[1;32m~\\Anaconda3\\lib\\site-packages\\sklearn\\utils\\validation.py\u001b[0m in \u001b[0;36mcheck_array\u001b[1;34m(array, accept_sparse, dtype, order, copy, force_all_finite, ensure_2d, allow_nd, ensure_min_samples, ensure_min_features, warn_on_dtype, estimator)\u001b[0m\n\u001b[0;32m    451\u001b[0m                              % (array.ndim, estimator_name))\n\u001b[0;32m    452\u001b[0m         \u001b[1;32mif\u001b[0m \u001b[0mforce_all_finite\u001b[0m\u001b[1;33m:\u001b[0m\u001b[1;33m\u001b[0m\u001b[0m\n\u001b[1;32m--> 453\u001b[1;33m             \u001b[0m_assert_all_finite\u001b[0m\u001b[1;33m(\u001b[0m\u001b[0marray\u001b[0m\u001b[1;33m)\u001b[0m\u001b[1;33m\u001b[0m\u001b[0m\n\u001b[0m\u001b[0;32m    454\u001b[0m \u001b[1;33m\u001b[0m\u001b[0m\n\u001b[0;32m    455\u001b[0m     \u001b[0mshape_repr\u001b[0m \u001b[1;33m=\u001b[0m \u001b[0m_shape_repr\u001b[0m\u001b[1;33m(\u001b[0m\u001b[0marray\u001b[0m\u001b[1;33m.\u001b[0m\u001b[0mshape\u001b[0m\u001b[1;33m)\u001b[0m\u001b[1;33m\u001b[0m\u001b[0m\n",
      "\u001b[1;32m~\\Anaconda3\\lib\\site-packages\\sklearn\\utils\\validation.py\u001b[0m in \u001b[0;36m_assert_all_finite\u001b[1;34m(X)\u001b[0m\n\u001b[0;32m     42\u001b[0m             and not np.isfinite(X).all()):\n\u001b[0;32m     43\u001b[0m         raise ValueError(\"Input contains NaN, infinity\"\n\u001b[1;32m---> 44\u001b[1;33m                          \" or a value too large for %r.\" % X.dtype)\n\u001b[0m\u001b[0;32m     45\u001b[0m \u001b[1;33m\u001b[0m\u001b[0m\n\u001b[0;32m     46\u001b[0m \u001b[1;33m\u001b[0m\u001b[0m\n",
      "\u001b[1;31mValueError\u001b[0m: Input contains NaN, infinity or a value too large for dtype('float32')."
     ]
    }
   ],
   "source": [
    "from sklearn.ensemble import RandomForestClassifier\n",
    "from sklearn.neighbors import KNeighborsClassifier\n",
    "\n",
    "rf = RandomForestClassifier(n_estimators=250, verbose=1)\n",
    "knn = KNeighborsClassifier(n_neighbors=7)\n",
    "\n",
    "rf.fit(Xtrain_all, ytrain)\n",
    "knn.fit(Xtrain_all, ytrain)"
   ]
  },
  {
   "cell_type": "code",
   "execution_count": 1525,
   "metadata": {},
   "outputs": [
    {
     "data": {
      "text/plain": [
       "jt_12                                   301\n",
       "jt_12 month                             301\n",
       "jt_180004im                             301\n",
       "jt_20                                   301\n",
       "jt_20 i2r                               301\n",
       "jt_2019                                 301\n",
       "jt_2019 time                            301\n",
       "jt_610                                  301\n",
       "jt_administrator                        301\n",
       "jt_ai                                   301\n",
       "jt_algorithm                            301\n",
       "jt_algorithm engineer                   301\n",
       "jt_analysis                             301\n",
       "jt_analyst                              301\n",
       "jt_analyst avp                          301\n",
       "jt_analyst bi                           301\n",
       "jt_analyst business                     301\n",
       "jt_analyst cbg                          301\n",
       "jt_analyst data                         301\n",
       "jt_analyst digital                      301\n",
       "jt_analyst engineering                  301\n",
       "jt_analyst lead                         301\n",
       "jt_analyst manager                      301\n",
       "jt_analyst marketing                    301\n",
       "jt_analyst net                          301\n",
       "jt_analyst regulatory                   301\n",
       "jt_analyst risk                         301\n",
       "jt_analyst sap                          301\n",
       "jt_analyst scientist                    301\n",
       "jt_analyst singapore                    301\n",
       "                                       ... \n",
       "ji_Healthcare / Pharmaceutical          301\n",
       "ji_Healthcare / Pharmaceutical ...      301\n",
       "ji_Hospitality                          301\n",
       "ji_Hospitality ...                      301\n",
       "ji_Human Resources                      301\n",
       "ji_Human Resources  ...                 301\n",
       "ji_Information Technology               301\n",
       "ji_Information Technology ...           301\n",
       "ji_Insurance                            301\n",
       "ji_Logistics / Supply Chain             301\n",
       "ji_Logistics / Supply Chain ...         301\n",
       "ji_Marketing / Public Relations         301\n",
       "ji_Marketing / Public Relations  ...    301\n",
       "ji_Others                               301\n",
       "ji_Professional Services                301\n",
       "ji_Real Estate / Property Management    301\n",
       "ji_Risk Management                      301\n",
       "ji_Sales / Retail                       301\n",
       "ji_Sciences / Laboratory / R&D          301\n",
       "ji_Telecommunications                   301\n",
       "ji_Travel / Tourism                     301\n",
       "js_Executive                            301\n",
       "js_Freshentry level                     301\n",
       "js_Junior Executive                     301\n",
       "js_Manager                              301\n",
       "js_Middle Management                    301\n",
       "js_Nonexecutive                         301\n",
       "js_Professional                         301\n",
       "js_Senior Executive                     301\n",
       "js_Senior Management                    301\n",
       "Length: 20548, dtype: int64"
      ]
     },
     "execution_count": 1525,
     "metadata": {},
     "output_type": "execute_result"
    }
   ],
   "source": [
    "Xtrain_all.isnull().sum()\n",
    "\n",
    "# last checkpoint : having problem with null values"
   ]
  },
  {
   "cell_type": "code",
   "execution_count": null,
   "metadata": {},
   "outputs": [],
   "source": [
    "# Random forest score:\n",
    "print('RF:', rf.score(X_test, y_test))\n",
    "print('KNN:', knn.score(X_test, y_test))"
   ]
  }
 ],
 "metadata": {
  "kernelspec": {
   "display_name": "Python 3",
   "language": "python",
   "name": "python3"
  },
  "language_info": {
   "codemirror_mode": {
    "name": "ipython",
    "version": 3
   },
   "file_extension": ".py",
   "mimetype": "text/x-python",
   "name": "python",
   "nbconvert_exporter": "python",
   "pygments_lexer": "ipython3",
   "version": "3.6.5"
  }
 },
 "nbformat": 4,
 "nbformat_minor": 2
}
